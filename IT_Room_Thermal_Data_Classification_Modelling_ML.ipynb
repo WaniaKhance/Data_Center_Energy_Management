{
  "nbformat": 4,
  "nbformat_minor": 0,
  "metadata": {
    "colab": {
      "name": "Copy of Data Classification Modelling.ipynb",
      "provenance": [],
      "collapsed_sections": []
    },
    "kernelspec": {
      "name": "python3",
      "display_name": "Python 3"
    },
    "language_info": {
      "name": "python"
    }
  },
  "cells": [
    {
      "cell_type": "code",
      "execution_count": null,
      "metadata": {
        "id": "AZNjnOe2GxUP"
      },
      "outputs": [],
      "source": [
        "import numpy as np\n",
        "import math\n",
        "import pandas as pd\n",
        "from IPython.display import display\n",
        "import matplotlib.pyplot as plt\n",
        "import seaborn as sns\n",
        "from sklearn import metrics"
      ]
    },
    {
      "cell_type": "code",
      "source": [
        "import pandas as pd\n",
        "from sklearn.model_selection import train_test_split\n",
        "from sklearn.linear_model import LogisticRegression\n",
        "from sklearn import preprocessing\n",
        "from sklearn.metrics import accuracy_score, classification_report, confusion_matrix\n",
        "from matplotlib import pyplot as plt\n",
        "import seaborn as sns"
      ],
      "metadata": {
        "id": "QWE5Je_rG1Ts"
      },
      "execution_count": null,
      "outputs": []
    },
    {
      "cell_type": "code",
      "source": [
        "from google.colab import drive\n",
        "drive.mount('/gdrive')\n",
        "%cd /gdrive"
      ],
      "metadata": {
        "colab": {
          "base_uri": "https://localhost:8080/"
        },
        "id": "igldLEStG5dK",
        "outputId": "d2a271d1-ac94-47b7-b04d-41c84ea0868a"
      },
      "execution_count": null,
      "outputs": [
        {
          "output_type": "stream",
          "name": "stdout",
          "text": [
            "Mounted at /gdrive\n",
            "/gdrive\n"
          ]
        }
      ]
    },
    {
      "cell_type": "markdown",
      "source": [
        "**Dataset of IT room where classes are created based on high, medium and high temperature as per ASHRAE Recommendations**"
      ],
      "metadata": {
        "id": "K3RFiLOAzwu-"
      }
    },
    {
      "cell_type": "code",
      "source": [
        "merge_path = '/gdrive/My Drive/Colab_Dataset/cool_class_df.csv'\n",
        "coolclass_df = pd.read_csv(merge_path, index_col=[0])"
      ],
      "metadata": {
        "id": "H46Gn05THCU1"
      },
      "execution_count": null,
      "outputs": []
    },
    {
      "cell_type": "code",
      "source": [
        "coolclass_df.head()"
      ],
      "metadata": {
        "id": "R-tlyNU4HYz9"
      },
      "execution_count": null,
      "outputs": []
    },
    {
      "cell_type": "code",
      "source": [
        "X = coolclass_df[['data columns etc']]\n",
        "y = coolclass_df.Class"
      ],
      "metadata": {
        "id": "T5L1jo77HP-Z"
      },
      "execution_count": null,
      "outputs": []
    },
    {
      "cell_type": "code",
      "source": [
        "scaler = preprocessing.StandardScaler().fit(X)\n",
        "X_scaled = scaler.transform(X)"
      ],
      "metadata": {
        "id": "h4Od4ebLH-de"
      },
      "execution_count": null,
      "outputs": []
    },
    {
      "cell_type": "markdown",
      "source": [
        "# **Logistic Regression Modelling**"
      ],
      "metadata": {
        "id": "6UdJizRqHQbl"
      }
    },
    {
      "cell_type": "code",
      "source": [
        "X_train, X_test, y_train, y_test = train_test_split(X_scaled, y, test_size=0.20, random_state=7, stratify=y)"
      ],
      "metadata": {
        "id": "ITfAuJ7qHEk4"
      },
      "execution_count": null,
      "outputs": []
    },
    {
      "cell_type": "code",
      "source": [
        "a = ['data columns etc']\n",
        "import matplotlib.colors as mcolors\n",
        "colors = list(mcolors.CSS4_COLORS.keys())[10:]\n",
        "def draw_histograms(dataframe, features, rows, cols):\n",
        "    fig=plt.figure(figsize=(20,20))\n",
        "    for i, feature in enumerate(features):\n",
        "        ax=fig.add_subplot(rows,cols,i+1)\n",
        "        dataframe[feature].hist(bins=20,ax=ax,facecolor=colors[i])\n",
        "        ax.set_title(feature+\" Histogram\",color=colors[35])\n",
        "        ax.set_yscale('log')\n",
        "    fig.tight_layout() \n",
        "    plt.show()\n",
        "draw_histograms(coolclass_df,coolclass_df[a],8,4)"
      ],
      "metadata": {
        "id": "BencjuJIICME"
      },
      "execution_count": null,
      "outputs": []
    },
    {
      "cell_type": "code",
      "source": [
        "model = LogisticRegression()\n",
        "model.fit(X_train, y_train)"
      ],
      "metadata": {
        "id": "onpEO_FbIkB8"
      },
      "execution_count": null,
      "outputs": []
    },
    {
      "cell_type": "code",
      "source": [
        "train_acc = model.score(X_train, y_train)\n",
        "print(\"The Accuracy for Training Set is {}\".format(train_acc*100))"
      ],
      "metadata": {
        "id": "PePBzlpFIvSC"
      },
      "execution_count": null,
      "outputs": []
    },
    {
      "cell_type": "code",
      "source": [
        "y_pred = model.predict(X_test)\n",
        "test_acc = accuracy_score(y_test, y_pred)\n",
        "print(\"The Accuracy for Test Set is {}\".format(test_acc*100))"
      ],
      "metadata": {
        "id": "TkS8HhQ_JI3A"
      },
      "execution_count": null,
      "outputs": []
    },
    {
      "cell_type": "code",
      "source": [
        "cm=confusion_matrix(y_test,y_pred)\n",
        "plt.figure(figsize=(6,4))\n",
        "plt.title(\"Confusion Matrix\")\n",
        "sns.heatmap(cm, annot=True,fmt='d', cmap='magma')\n",
        "plt.ylabel(\"Actual Values\")\n",
        "plt.xlabel(\"Predicted Values\")\n",
        "plt.title('Logistic Regression Classification')\n"
      ],
      "metadata": {
        "id": "-2FIYGOgKKUs"
      },
      "execution_count": null,
      "outputs": []
    },
    {
      "cell_type": "code",
      "source": [
        "print(classification_report(y_test, y_pred))\n",
        "print(confusion_matrix(y_test,y_pred))"
      ],
      "metadata": {
        "id": "kYZWgrR3L-AW"
      },
      "execution_count": null,
      "outputs": []
    },
    {
      "cell_type": "markdown",
      "source": [
        "# **Decision Tree Classification Model**"
      ],
      "metadata": {
        "id": "_TDoaVWhMLst"
      }
    },
    {
      "cell_type": "code",
      "source": [
        "x_train_data, x_test_data, y_train_data, y_test_data = train_test_split(X_scaled, y, test_size = 0.2)\n"
      ],
      "metadata": {
        "id": "_Zgkka9CO8HU"
      },
      "execution_count": null,
      "outputs": []
    },
    {
      "cell_type": "code",
      "source": [
        "from sklearn.tree import DecisionTreeClassifier\n",
        "model = DecisionTreeClassifier()\n",
        "model.fit(x_train_data, y_train_data)\n",
        "predictions = model.predict(x_test_data)"
      ],
      "metadata": {
        "id": "Dmwc7GSCPyTJ"
      },
      "execution_count": null,
      "outputs": []
    },
    {
      "cell_type": "code",
      "source": [
        "from sklearn.metrics import classification_report\n",
        "from sklearn.metrics import confusion_matrix\n",
        "print(classification_report(y_test_data, predictions))\n",
        "print(confusion_matrix(y_test_data, predictions))"
      ],
      "metadata": {
        "id": "yw0Mtr4qP3oV"
      },
      "execution_count": null,
      "outputs": []
    },
    {
      "cell_type": "code",
      "source": [
        "y_pred = model.predict(x_test_data)\n",
        "test_acc = accuracy_score(y_test_data, predictions)\n",
        "print(\"The Accuracy for Test Set is {}\".format(test_acc*100))"
      ],
      "metadata": {
        "id": "RN0tV8h3P_TV"
      },
      "execution_count": null,
      "outputs": []
    },
    {
      "cell_type": "code",
      "source": [
        "cm=confusion_matrix(y_test_data,predictions)\n",
        "plt.figure(figsize=(6,4))\n",
        "plt.title(\"Decision Tree Classification\")\n",
        "sns.heatmap(cm, annot=True,fmt='d', cmap='magma')\n",
        "plt.ylabel(\"Actual Values\")\n",
        "plt.xlabel(\"Predicted Values\")"
      ],
      "metadata": {
        "id": "OhTWBJENQHmf"
      },
      "execution_count": null,
      "outputs": []
    },
    {
      "cell_type": "markdown",
      "source": [
        "# **SVM Model**"
      ],
      "metadata": {
        "id": "xy6JsXqaQxxZ"
      }
    },
    {
      "cell_type": "code",
      "source": [
        "from sklearn import svm\n",
        "X_train6, X_test6, y_train6, y_test6 = train_test_split(X_scaled, y, test_size = 0.2, random_state = 7)\n",
        "SVC_model = svm.SVC(kernel='linear')\n",
        "SVC_model.fit(X_train6, y_train6)\n",
        "y_pred2 = SVC_model.predict(X_test6)"
      ],
      "metadata": {
        "id": "yz7oEnBKQ0ue"
      },
      "execution_count": null,
      "outputs": []
    },
    {
      "cell_type": "code",
      "source": [
        "test_acc = accuracy_score(y_test6, y_pred2)\n",
        "print(\"The Accuracy for Test Set is {}\".format(test_acc*100))"
      ],
      "metadata": {
        "id": "_WIkQQI0RqhX"
      },
      "execution_count": null,
      "outputs": []
    },
    {
      "cell_type": "code",
      "source": [
        "cm=confusion_matrix(y_test6,y_pred2)\n",
        "plt.figure(figsize=(6,4))\n",
        "plt.title(\"Suppor Vector Machines Classification\")\n",
        "sns.heatmap(cm, annot=True,fmt='d', cmap='magma')\n",
        "plt.ylabel(\"Actual Values\")\n",
        "plt.xlabel(\"Predicted Values\")"
      ],
      "metadata": {
        "id": "PtPdOLVhRqWb"
      },
      "execution_count": null,
      "outputs": []
    },
    {
      "cell_type": "code",
      "source": [
        "from sklearn.metrics import classification_report\n",
        "from sklearn.metrics import confusion_matrix\n",
        "print(classification_report(y_test6,y_pred2))\n",
        "print(confusion_matrix(y_test6,y_pred2))"
      ],
      "metadata": {
        "id": "TWxPedshSKHg"
      },
      "execution_count": null,
      "outputs": []
    },
    {
      "cell_type": "markdown",
      "source": [
        "# **Random Forest Classification**"
      ],
      "metadata": {
        "id": "lzZWQ33wSYi7"
      }
    },
    {
      "cell_type": "code",
      "source": [
        "X_train4, X_test4, y_train4, y_test4 = train_test_split(X_scaled, y, test_size = 0.2, random_state = 7)"
      ],
      "metadata": {
        "id": "bn7YsQkzS5iD"
      },
      "execution_count": null,
      "outputs": []
    },
    {
      "cell_type": "code",
      "source": [
        "from sklearn.ensemble import RandomForestClassifier\n",
        "clf=RandomForestClassifier(n_estimators=100)\n",
        "clf.fit(X_train4,y_train4)\n",
        "y_pred=clf.predict(X_test4)"
      ],
      "metadata": {
        "id": "kGibMsyxShBw"
      },
      "execution_count": null,
      "outputs": []
    },
    {
      "cell_type": "code",
      "source": [
        "test_acc = accuracy_score(y_test4, y_pred)\n",
        "print(\"The Accuracy for Test Set is {}\".format(test_acc*100))"
      ],
      "metadata": {
        "id": "Ygc8YzYHTE6e"
      },
      "execution_count": null,
      "outputs": []
    },
    {
      "cell_type": "code",
      "source": [
        "from sklearn.metrics import classification_report\n",
        "from sklearn.metrics import confusion_matrix\n",
        "print(classification_report(y_test4, y_pred))\n",
        "print(confusion_matrix(y_test4, y_pred))"
      ],
      "metadata": {
        "id": "pLzGE_-bTGjo"
      },
      "execution_count": null,
      "outputs": []
    },
    {
      "cell_type": "code",
      "source": [
        "cm=confusion_matrix(y_test4, y_pred)\n",
        "plt.figure(figsize=(6,4))\n",
        "plt.title(\"Random Forest Classification \")\n",
        "sns.heatmap(cm, annot=True,fmt='d', cmap='magma')\n",
        "plt.ylabel(\"Actual Values\")\n",
        "plt.xlabel(\"Predicted Values\")"
      ],
      "metadata": {
        "id": "kxA5m8nMTRpy"
      },
      "execution_count": null,
      "outputs": []
    },
    {
      "cell_type": "markdown",
      "source": [
        "# **Naive Bayes Classification**"
      ],
      "metadata": {
        "id": "zEFAB-mXZk_V"
      }
    },
    {
      "cell_type": "code",
      "source": [
        "from sklearn.naive_bayes import GaussianNB\n",
        "X_train7, X_test7, y_train7, y_test7 = train_test_split(X_scaled, y, test_size = 0.2, random_state = 7)\n",
        "nb_model = GaussianNB()\n",
        "#Train the model using the training sets\n",
        "nb_model.fit(X_train7, y_train7)\n",
        "#Predict the response for test dataset\n",
        "y_pred3 = nb_model.predict(X_test7)"
      ],
      "metadata": {
        "id": "iWSgxFlVZn4m"
      },
      "execution_count": null,
      "outputs": []
    },
    {
      "cell_type": "code",
      "source": [
        "test_acc = accuracy_score(y_test7, y_pred3)\n",
        "\n",
        "print(\"The Accuracy for Test Set is {}\".format(test_acc*100))\n",
        "from sklearn.metrics import classification_report\n",
        "from sklearn.metrics import confusion_matrix\n",
        "\n",
        "print(classification_report(y_test7, y_pred3))\n",
        "print(confusion_matrix(y_test7, y_pred3))\n",
        "\n",
        "cm=confusion_matrix(y_test7, y_pred3)\n",
        "\n",
        "plt.figure(figsize=(6,4))\n",
        "plt.title(\"Gaussian Naive Bayes Classification \")\n",
        "sns.heatmap(cm, annot=True,fmt='d', cmap='magma')\n",
        "plt.ylabel(\"Actual Values\")\n",
        "plt.xlabel(\"Predicted Values\")"
      ],
      "metadata": {
        "id": "_em7xlFcZtPw"
      },
      "execution_count": null,
      "outputs": []
    }
  ]
}