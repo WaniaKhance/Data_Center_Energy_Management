{
  "nbformat": 4,
  "nbformat_minor": 0,
  "metadata": {
    "colab": {
      "name": "Copy of Job Prediction.ipynb",
      "provenance": [],
      "machine_shape": "hm",
      "collapsed_sections": []
    },
    "kernelspec": {
      "name": "python3",
      "display_name": "Python 3"
    },
    "language_info": {
      "name": "python"
    },
    "accelerator": "GPU"
  },
  "cells": [
    {
      "cell_type": "code",
      "source": [
        "!pip install pmdarima"
      ],
      "metadata": {
        "id": "lmTSJzxiA1FV"
      },
      "execution_count": null,
      "outputs": []
    },
    {
      "cell_type": "code",
      "execution_count": null,
      "metadata": {
        "id": "7u4_PNrqmRYf"
      },
      "outputs": [],
      "source": [
        "import numpy as np\n",
        "import math\n",
        "import pandas as pd\n",
        "from IPython.display import display\n",
        "import matplotlib.pyplot as plt\n",
        "import seaborn as sns\n",
        "from sklearn import metrics\n",
        "from statsmodels.tsa.seasonal import seasonal_decompose"
      ]
    },
    {
      "cell_type": "code",
      "source": [
        "from google.colab import drive\n",
        "drive.mount('/gdrive')\n",
        "%cd /gdrive"
      ],
      "metadata": {
        "id": "kjQt0ijRmd5z"
      },
      "execution_count": null,
      "outputs": []
    },
    {
      "cell_type": "code",
      "source": [
        "job_path = '/gdrive/My Drive/Colab_Dataset/job_df.csv'\n",
        "job_df = pd.read_csv(job_path, index_col=[0])"
      ],
      "metadata": {
        "id": "RFiiZ6FomjnI"
      },
      "execution_count": null,
      "outputs": []
    },
    {
      "cell_type": "code",
      "source": [
        "jobs_path = '/gdrive/My Drive/Colab_Dataset/Done and Exit Jobs DF/jobs_energy_use.csv'\n",
        "jobs_df = pd.read_csv(jobs_path, index_col=[0])"
      ],
      "metadata": {
        "id": "EEytox4zpVlX"
      },
      "execution_count": null,
      "outputs": []
    },
    {
      "cell_type": "code",
      "source": [
        "jobs_df.index = pd.to_datetime(jobs_df.index)"
      ],
      "metadata": {
        "id": "As9EaQwZp11F"
      },
      "execution_count": null,
      "outputs": []
    },
    {
      "cell_type": "code",
      "source": [
        "jobs_df.info()"
      ],
      "metadata": {
        "id": "j6KS5nc3nazv"
      },
      "execution_count": null,
      "outputs": []
    },
    {
      "cell_type": "markdown",
      "source": [
        "# **Time Series Decomposition**"
      ],
      "metadata": {
        "id": "79mk9zfOvg1A"
      }
    },
    {
      "cell_type": "code",
      "source": [
        "result=seasonal_decompose(jobs_df['Active Resource Consumption Energy'], model='additive', freq = 4)\n",
        "plt.rcParams[\"figure.figsize\"] = (14,7)\n",
        "print('                           Active Resource Consumption Energy - Time Series Decomposition')\n",
        "result.plot()\n",
        "plt.show()\n",
        "#plt.suptitle('Resource Utilization Time Series Decomposition')"
      ],
      "metadata": {
        "id": "wtjNT6S5s9KK"
      },
      "execution_count": null,
      "outputs": []
    },
    {
      "cell_type": "code",
      "source": [
        "result=seasonal_decompose(jobs_df['Energy Waste'], model='additive', freq = 4)\n",
        "plt.rcParams[\"figure.figsize\"] = (14,7)\n",
        "print('                                         Energy Waste - Time Series Decomposition')\n",
        "result.plot()\n",
        "plt.show()\n",
        "#plt.suptitle('Resource Utilization Time Series Decomposition')"
      ],
      "metadata": {
        "id": "2mJ6zK19u7ER"
      },
      "execution_count": null,
      "outputs": []
    },
    {
      "cell_type": "code",
      "source": [
        "from matplotlib import pyplot\n",
        "from pylab import rcParams\n",
        "import matplotlib.pyplot as plt\n",
        "\n",
        "\n",
        "rcParams['figure.figsize'] = 12, 7\n",
        "jobs_df[[ 'Energy Waste']].plot()\n",
        "plt.title('Energy Waste during Job Execution')\n",
        "plt.legend(loc='upper right')\n",
        "plt.xlabel('Time (Monthly)')\n",
        "plt.ylabel('Values')"
      ],
      "metadata": {
        "id": "P_8t94e7vo0e"
      },
      "execution_count": null,
      "outputs": []
    },
    {
      "cell_type": "code",
      "source": [
        "from matplotlib import pyplot\n",
        "from pylab import rcParams\n",
        "import matplotlib.pyplot as plt\n",
        "\n",
        "rcParams['figure.figsize'] = 12, 7\n",
        "jobs_df[[ 'Active Resource Consumption Energy']].plot()\n",
        "plt.title('Active Resource Consumption Energy during Jobs Execution')\n",
        "plt.legend(loc='upper right')\n",
        "plt.xlabel('Time (Monthly)')\n",
        "plt.ylabel('Values')"
      ],
      "metadata": {
        "id": "ggnqMubxwIZ_"
      },
      "execution_count": null,
      "outputs": []
    },
    {
      "cell_type": "markdown",
      "source": [
        "# **ARIMA Modelling for Energy Consumption by Active Jobs**\n",
        "\n",
        "\n"
      ],
      "metadata": {
        "id": "gqdiTrq2-I7Z"
      }
    },
    {
      "cell_type": "code",
      "source": [
        "jobs_df.rename(columns={'Active Resource Consumption Energy': 'Active_Resource_Consumption_Energy'}, inplace=True)\n"
      ],
      "metadata": {
        "id": "pNJQITHR_CcX"
      },
      "execution_count": null,
      "outputs": []
    },
    {
      "cell_type": "code",
      "source": [
        "plt.figure(figsize=[15, 7.5]); # Set dimensions for figure\n",
        "plt.plot(jobs_df['Active Resource Consumption Energy'])\n",
        "plt.title('Active Resource Consumption Energy')\n",
        "plt.ylabel('Joules')\n",
        "plt.xlabel('Timeline')\n",
        "plt.xticks(rotation=90)\n",
        "plt.grid(True)\n",
        "plt.show()"
      ],
      "metadata": {
        "id": "byGEA0RO-Qf5"
      },
      "execution_count": null,
      "outputs": []
    },
    {
      "cell_type": "code",
      "source": [
        "from statsmodels.graphics.tsaplots import plot_pacf\n",
        "from statsmodels.graphics.tsaplots import plot_acf\n",
        "from statsmodels.tsa.statespace.sarimax import SARIMAX\n",
        "from statsmodels.tsa.holtwinters import ExponentialSmoothing\n",
        "from statsmodels.tsa.stattools import adfuller\n",
        "from tqdm import tqdm_notebook"
      ],
      "metadata": {
        "id": "w8tmNObSG_1u"
      },
      "execution_count": null,
      "outputs": []
    },
    {
      "cell_type": "code",
      "source": [
        "plot_pacf(jobs_df['Active Resource Consumption Energy']);\n",
        "plot_acf(jobs_df['Active Resource Consumption Energy']);"
      ],
      "metadata": {
        "id": "ilOaofWIGz6h"
      },
      "execution_count": null,
      "outputs": []
    },
    {
      "cell_type": "code",
      "source": [
        "ad_fuller_result = adfuller(jobs_df['Active Resource Consumption Energy'])\n",
        "print(f'ADF Statistic: {ad_fuller_result[0]}')\n",
        "print(f'p-value: {ad_fuller_result[1]}')"
      ],
      "metadata": {
        "id": "xrtzTNcaHFYB"
      },
      "execution_count": null,
      "outputs": []
    },
    {
      "cell_type": "code",
      "source": [
        "def optimize_SARIMA(parameters_list, d, D, s, exog):\n",
        "    \"\"\"\n",
        "        Return dataframe with parameters, corresponding AIC and SSE\n",
        "        \n",
        "        parameters_list - list with (p, q, P, Q) tuples\n",
        "        d - integration order\n",
        "        D - seasonal integration order\n",
        "        s - length of season\n",
        "        exog - the exogenous variable\n",
        "    \"\"\"\n",
        "    \n",
        "    results = []\n",
        "    \n",
        "    for param in tqdm_notebook(parameters_list):\n",
        "        try: \n",
        "            model = SARIMAX(exog, order=(param[0], d, param[1]), seasonal_order=(param[2], D, param[3], s)).fit(disp=-1)\n",
        "        except:\n",
        "            continue\n",
        "            \n",
        "        aic = model.aic\n",
        "        results.append([param, aic])\n",
        "        \n",
        "    result_df = pd.DataFrame(results)\n",
        "    result_df.columns = ['(p,q)x(P,Q)', 'AIC']\n",
        "    #Sort in ascending order, lower AIC is better\n",
        "    result_df = result_df.sort_values(by='AIC', ascending=True).reset_index(drop=True)\n",
        "    \n",
        "    return result_df"
      ],
      "metadata": {
        "id": "VHa_5QnEHQHE"
      },
      "execution_count": null,
      "outputs": []
    },
    {
      "cell_type": "code",
      "source": [
        "best_model = SARIMAX(jobs_df['Active Resource Consumption Energy'], order=(0, 1, 2), seasonal_order=(0, 1, 2, 4)).fit(dis=-1)\n",
        "print(best_model.summary())"
      ],
      "metadata": {
        "id": "Lz__SJYNHrLg"
      },
      "execution_count": null,
      "outputs": []
    },
    {
      "cell_type": "code",
      "source": [
        "best_model.plot_diagnostics(figsize=(15,12));"
      ],
      "metadata": {
        "id": "X9tzPV9GJSLX"
      },
      "execution_count": null,
      "outputs": []
    },
    {
      "cell_type": "code",
      "source": [
        "jobs_df['arima_model'] = best_model.fittedvalues\n",
        "#jobs_df['arima_model'][:4+1] = np.NaN\n",
        "forecast = best_model.predict(start=jobs_df.shape[0], end=jobs_df.shape[0] + 8)\n",
        "forecast = jobs_df['arima_model'].append(forecast)\n",
        "plt.figure(figsize=(15, 7.5))\n",
        "plt.plot(forecast, color='r', label='model')\n",
        "plt.axvspan(jobs_df.index[-1], forecast.index[-1], alpha=0.5, color='lightgrey')\n",
        "plt.plot(jobs_df['Active Resource Consumption Energy'], label='actual')\n",
        "plt.legend()\n",
        "plt.title('Active Resource Consumption Energy Forecast')\n",
        "plt.xlabel('Timeline')\n",
        "plt.show()"
      ],
      "metadata": {
        "id": "Je8sqltjJSFh"
      },
      "execution_count": null,
      "outputs": []
    },
    {
      "cell_type": "code",
      "source": [
        "jobs_df['arima_model']"
      ],
      "metadata": {
        "id": "eqojevFs5hNa"
      },
      "execution_count": null,
      "outputs": []
    },
    {
      "cell_type": "code",
      "source": [
        "from sklearn import metrics\n",
        "\n",
        "print(metrics.mean_absolute_error(jobs_df['Active Resource Consumption Energy'], jobs_df['arima_model']))\n",
        "\n",
        "print(\"\\n\", metrics.mean_squared_error(jobs_df['Active Resource Consumption Energy'], jobs_df['arima_model']))\n",
        "\n",
        "print(\"\\n\", np.sqrt(metrics.mean_squared_error(jobs_df['Active Resource Consumption Energy'], jobs_df['arima_model'])))\n"
      ],
      "metadata": {
        "id": "bsSjOe9eJlvg"
      },
      "execution_count": null,
      "outputs": []
    },
    {
      "cell_type": "markdown",
      "source": [
        "# **ARIMA Modelling for Energy Waste by Exit Jobs**"
      ],
      "metadata": {
        "id": "5Z4n25sPNyKt"
      }
    },
    {
      "cell_type": "code",
      "source": [
        "#jobs_df.rename(columns={'Energy Waste': 'Active_Resource_Consumption_Energy'}, inplace=True)\n",
        "data = jobs_df[['Energy Waste']]"
      ],
      "metadata": {
        "id": "QIALjSqnOII6"
      },
      "execution_count": null,
      "outputs": []
    },
    {
      "cell_type": "code",
      "source": [
        "plt.figure(figsize=[15, 7.5]); # Set dimensions for figure\n",
        "plt.plot(data['Energy Waste'])\n",
        "plt.title('Energy Waste')\n",
        "plt.ylabel('')\n",
        "plt.xlabel('Timeline')\n",
        "plt.xticks(rotation=90)\n",
        "plt.grid(True)\n",
        "plt.show()"
      ],
      "metadata": {
        "id": "EZxbWvzWOII7"
      },
      "execution_count": null,
      "outputs": []
    },
    {
      "cell_type": "code",
      "source": [
        "from statsmodels.graphics.tsaplots import plot_pacf\n",
        "from statsmodels.graphics.tsaplots import plot_acf\n",
        "from statsmodels.tsa.statespace.sarimax import SARIMAX\n",
        "from statsmodels.tsa.holtwinters import ExponentialSmoothing\n",
        "from statsmodels.tsa.stattools import adfuller\n",
        "from tqdm import tqdm_notebook"
      ],
      "metadata": {
        "id": "HAzgVpLXOII7"
      },
      "execution_count": null,
      "outputs": []
    },
    {
      "cell_type": "code",
      "source": [
        "plot_pacf(data['Energy Waste']);\n",
        "plot_acf(data['Energy Waste']);"
      ],
      "metadata": {
        "id": "2ftI5GYGOII7"
      },
      "execution_count": null,
      "outputs": []
    },
    {
      "cell_type": "code",
      "source": [
        "ad_fuller_result = adfuller(data['Energy Waste'])\n",
        "print(f'ADF Statistic: {ad_fuller_result[0]}')\n",
        "print(f'p-value: {ad_fuller_result[1]}')"
      ],
      "metadata": {
        "id": "Upj4WRxmOII8"
      },
      "execution_count": null,
      "outputs": []
    },
    {
      "cell_type": "code",
      "source": [
        "data['Energy Waste'] = np.log(data['Energy Waste'])\n",
        "data['Energy Waste'] = data['Energy Waste'].diff()\n",
        "data = data.drop(data.index[0])\n"
      ],
      "metadata": {
        "id": "MTcchM1zPPZ9"
      },
      "execution_count": null,
      "outputs": []
    },
    {
      "cell_type": "code",
      "source": [
        "plt.figure(figsize=[15, 7.5]); # Set dimensions for figure\n",
        "plt.plot(data['Energy Waste'] )\n",
        "plt.title(\"Log Difference of Quarterly EPS for Johnson & Johnson\")\n",
        "plt.show()"
      ],
      "metadata": {
        "id": "AdELp82TPY2v"
      },
      "execution_count": null,
      "outputs": []
    },
    {
      "cell_type": "code",
      "source": [
        "data['Energy Waste'] = data['Energy Waste'].diff(4)\n"
      ],
      "metadata": {
        "id": "nhQqTnO5PrgU"
      },
      "execution_count": null,
      "outputs": []
    },
    {
      "cell_type": "code",
      "source": [
        "plt.figure(figsize=[15, 7.5]); # Set dimensions for figure\n",
        "plt.plot(data['Energy Waste'] )\n",
        "plt.title(\"Log Difference of Quarterly EPS for Johnson & Johnson\")\n",
        "plt.show()"
      ],
      "metadata": {
        "id": "dFJb7QzlP6vV"
      },
      "execution_count": null,
      "outputs": []
    },
    {
      "cell_type": "code",
      "source": [
        "def optimize_SARIMA(parameters_list, d, D, s, exog):\n",
        "    \"\"\"\n",
        "        Return dataframe with parameters, corresponding AIC and SSE\n",
        "        \n",
        "        parameters_list - list with (p, q, P, Q) tuples\n",
        "        d - integration order\n",
        "        D - seasonal integration order\n",
        "        s - length of season\n",
        "        exog - the exogenous variable\n",
        "    \"\"\"\n",
        "    \n",
        "    results = []\n",
        "    \n",
        "    for param in tqdm_notebook(parameters_list):\n",
        "        try: \n",
        "            model = SARIMAX(exog, order=(param[0], d, param[1]), seasonal_order=(param[2], D, param[3], s)).fit(disp=-1)\n",
        "        except:\n",
        "            continue\n",
        "            \n",
        "        aic = model.aic\n",
        "        results.append([param, aic])\n",
        "        \n",
        "    result_df = pd.DataFrame(results)\n",
        "    result_df.columns = ['(p,q)x(P,Q)', 'AIC']\n",
        "    #Sort in ascending order, lower AIC is better\n",
        "    result_df = result_df.sort_values(by='AIC', ascending=True).reset_index(drop=True)\n",
        "    \n",
        "    return result_df"
      ],
      "metadata": {
        "id": "g9FyY4HCOII8"
      },
      "execution_count": null,
      "outputs": []
    },
    {
      "cell_type": "code",
      "source": [
        "best_model = SARIMAX(data['Energy Waste'], order=(0, 1, 2), seasonal_order=(0, 1, 2, 4)).fit(dis=-1) \n",
        "print(best_model.summary())"
      ],
      "metadata": {
        "id": "NuuePX68OII8"
      },
      "execution_count": null,
      "outputs": []
    },
    {
      "cell_type": "code",
      "source": [
        "best_model.plot_diagnostics(figsize=(15,12));"
      ],
      "metadata": {
        "id": "FtcBIHNqOII8"
      },
      "execution_count": null,
      "outputs": []
    },
    {
      "cell_type": "code",
      "source": [
        "data['arima_model'] = best_model.fittedvalues\n",
        "#data['arima_model'][:4+1] = np.NaN\n",
        "forecast = best_model.predict(start=data.shape[0], end=data.shape[0] + 8)\n",
        "forecast = data['arima_model'].append(forecast)\n",
        "plt.figure(figsize=(15, 7.5))\n",
        "plt.plot(forecast, color='r', label='model')\n",
        "plt.axvspan(data.index[-1], forecast.index[-1], alpha=0.5, color='lightgrey')\n",
        "plt.plot(data['Energy Waste'], label='actual')\n",
        "plt.legend()\n",
        "plt.title('Energy Waste Forecast')\n",
        "plt.xlabel('Timeline')\n",
        "plt.show()"
      ],
      "metadata": {
        "id": "J5VvHJM_OII9"
      },
      "execution_count": null,
      "outputs": []
    },
    {
      "cell_type": "code",
      "source": [
        "from sklearn import metrics\n",
        "\n",
        "\n",
        "\n",
        "print(metrics.mean_absolute_error(data['Energy Waste'], data['arima_model']))\n",
        "\n",
        "print(\"\\n\", metrics.mean_squared_error(data['Energy Waste'], data['arima_model']))\n",
        "\n",
        "print(\"\\n\", np.sqrt(metrics.mean_squared_error(data['Energy Waste'], data['arima_model'])))"
      ],
      "metadata": {
        "id": "-SyZ-Qy2OII-"
      },
      "execution_count": null,
      "outputs": []
    }
  ]
}