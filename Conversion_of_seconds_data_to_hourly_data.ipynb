{
  "nbformat": 4,
  "nbformat_minor": 0,
  "metadata": {
    "colab": {
      "name": "Copy of Conversion to hourly data.ipynb",
      "provenance": [],
      "collapsed_sections": [],
      "machine_shape": "hm"
    },
    "kernelspec": {
      "name": "python3",
      "display_name": "Python 3"
    },
    "language_info": {
      "name": "python"
    },
    "accelerator": "GPU"
  },
  "cells": [
    {
      "cell_type": "markdown",
      "source": [
        "**Initiallizing Libraries**\n"
      ],
      "metadata": {
        "id": "IwtM-hPBspHa"
      }
    },
    {
      "cell_type": "code",
      "execution_count": null,
      "metadata": {
        "id": "HkKnSIMgYu7S"
      },
      "outputs": [],
      "source": [
        "import numpy as np\n",
        "import pandas as pd\n",
        "from IPython.display import display\n",
        "import matplotlib.pyplot as plt\n",
        "import seaborn as sns\n",
        "from sklearn import metrics"
      ]
    },
    {
      "cell_type": "code",
      "source": [
        "from google.colab import drive\n",
        "drive.mount('/gdrive')\n",
        "%cd /gdrive"
      ],
      "metadata": {
        "colab": {
          "base_uri": "https://localhost:8080/"
        },
        "id": "ge2YZXkfZ6rh",
        "outputId": "c01cb92c-d07a-4e42-8d5c-b224fc5cb6e7"
      },
      "execution_count": null,
      "outputs": [
        {
          "output_type": "stream",
          "name": "stdout",
          "text": [
            "Mounted at /gdrive\n",
            "/gdrive\n"
          ]
        }
      ]
    },
    {
      "cell_type": "markdown",
      "source": [
        "**Reading CSV File from drive**"
      ],
      "metadata": {
        "id": "_XzSjnTctGAg"
      }
    },
    {
      "cell_type": "code",
      "source": [
        "path = '/gdrive/My Drive/your_df.csv'\n",
        "your_df = pd.read_csv(path, index_col=[0])\n"
      ],
      "metadata": {
        "id": "Gc2m-5HmaA4W"
      },
      "execution_count": null,
      "outputs": []
    },
    {
      "cell_type": "code",
      "source": [
        "your_df.head()"
      ],
      "metadata": {
        "id": "GMMDqj4daHcd"
      },
      "execution_count": null,
      "outputs": []
    },
    {
      "cell_type": "markdown",
      "source": [
        "#  **Conversion of january data to Hourly**"
      ],
      "metadata": {
        "id": "_o6X4PlRqaOu"
      }
    },
    {
      "cell_type": "markdown",
      "source": [
        "**Converting January data into datetime format**"
      ],
      "metadata": {
        "id": "cvulS1yOAJGU"
      }
    },
    {
      "cell_type": "code",
      "source": [
        "your_df['timestamp_column'] = your_df['tempo'].str.replace('CET', '')"
      ],
      "metadata": {
        "id": "bdoQTEyladtI"
      },
      "execution_count": null,
      "outputs": []
    },
    {
      "cell_type": "code",
      "source": [
        "your_df['timestamp_column'] = pd.to_datetime(your_df['timestamp_column'])"
      ],
      "metadata": {
        "id": "IrgHhtxWbAh3"
      },
      "execution_count": null,
      "outputs": []
    },
    {
      "cell_type": "code",
      "source": [
        "your_df.info()"
      ],
      "metadata": {
        "id": "eaWi_IUcj57G"
      },
      "execution_count": null,
      "outputs": []
    },
    {
      "cell_type": "code",
      "source": [
        "your_df['timestamp_column'] = your_df['timestamp_column'].dt.strftime(\"%m/%d/%Y %H:%M:%S\")"
      ],
      "metadata": {
        "id": "VdnboP7Sa0-O"
      },
      "execution_count": null,
      "outputs": []
    },
    {
      "cell_type": "code",
      "source": [
        "your_df['timestamp_column'] = your_df['timestamp_column'].dt.strftime(\"%m/%d/%Y %H:%M:%S\")"
      ],
      "metadata": {
        "id": "xB46099JpOP2"
      },
      "execution_count": null,
      "outputs": []
    },
    {
      "cell_type": "code",
      "source": [
        "your_df.info()"
      ],
      "metadata": {
        "id": "t6mNWPXHah7h"
      },
      "execution_count": null,
      "outputs": []
    },
    {
      "cell_type": "markdown",
      "source": [
        "**Hourly Resampling for January**"
      ],
      "metadata": {
        "id": "sq1qO1rhAdxM"
      }
    },
    {
      "cell_type": "code",
      "source": [
        "your_df = your_df.set_index('timestamp_column')\n",
        "your_df.info()"
      ],
      "metadata": {
        "id": "GTefzBrzqx6N"
      },
      "execution_count": null,
      "outputs": []
    },
    {
      "cell_type": "code",
      "source": [
        "hourly_resampled_data = your_df.iloc[:,1:25].resample('H').mean()\n"
      ],
      "metadata": {
        "id": "3fvoGUL_s-I4"
      },
      "execution_count": null,
      "outputs": []
    },
    {
      "cell_type": "markdown",
      "source": [
        "# **Hourly sampling for Cooling Data**"
      ],
      "metadata": {
        "id": "n7Q5-FuQAp2W"
      }
    },
    {
      "cell_type": "code",
      "source": [
        "c_path = '/gdrive/My Drive/Colab_Dataset/Other/Cooling_2020.csv'\n",
        "cooling_df = pd.read_csv(c_path, delimiter=';')\n"
      ],
      "metadata": {
        "id": "W2sLVZjPA2Xi"
      },
      "execution_count": null,
      "outputs": []
    },
    {
      "cell_type": "code",
      "source": [
        "cooling_df.info()"
      ],
      "metadata": {
        "id": "J5MaWWLBBObr"
      },
      "execution_count": null,
      "outputs": []
    },
    {
      "cell_type": "code",
      "source": [
        "cooling_df['time'] = pd.to_datetime(cooling_df['time'],unit='s')"
      ],
      "metadata": {
        "id": "wyXCbdisCqjv"
      },
      "execution_count": null,
      "outputs": []
    },
    {
      "cell_type": "code",
      "source": [
        "cooling_df = cooling_df.dropna()"
      ],
      "metadata": {
        "id": "shzZD3m2DszC"
      },
      "execution_count": null,
      "outputs": []
    },
    {
      "cell_type": "code",
      "source": [
        "cooling_df.info()"
      ],
      "metadata": {
        "id": "4FX-95fHD6ob"
      },
      "execution_count": null,
      "outputs": []
    },
    {
      "cell_type": "code",
      "source": [
        "cooling_df.isnull().sum()"
      ],
      "metadata": {
        "id": "sRm1IBTyHcfv"
      },
      "execution_count": null,
      "outputs": []
    },
    {
      "cell_type": "code",
      "source": [
        "cooling_df['time'] = cooling_df['time'].dt.strftime(\"%m/%d/%Y %H:%M:%S\")"
      ],
      "metadata": {
        "id": "pXHnLO2VGad9"
      },
      "execution_count": null,
      "outputs": []
    },
    {
      "cell_type": "code",
      "source": [
        "cooling_df.head()"
      ],
      "metadata": {
        "id": "IyLrRS6LfU2v"
      },
      "execution_count": null,
      "outputs": []
    },
    {
      "cell_type": "code",
      "source": [
        "cooling_df['time']= pd.to_datetime(cooling_df['time'])"
      ],
      "metadata": {
        "id": "XzeXzONQGgum"
      },
      "execution_count": null,
      "outputs": []
    },
    {
      "cell_type": "code",
      "source": [
        "cooling_df['timestamp'] = cooling_df['time']"
      ],
      "metadata": {
        "id": "ieq_MGrlfRFU"
      },
      "execution_count": null,
      "outputs": []
    },
    {
      "cell_type": "code",
      "source": [
        "cooling_df = cooling_df.set_index('time')"
      ],
      "metadata": {
        "id": "lmVJpQHHHOAk"
      },
      "execution_count": null,
      "outputs": []
    },
    {
      "cell_type": "code",
      "source": [
        "cooling_df.info()"
      ],
      "metadata": {
        "id": "JW6r-aCfHrX3"
      },
      "execution_count": null,
      "outputs": []
    },
    {
      "cell_type": "code",
      "source": [
        "cooling_df.iloc[:,2:8]"
      ],
      "metadata": {
        "id": "xwMeyB8AH9E5"
      },
      "execution_count": null,
      "outputs": []
    },
    {
      "cell_type": "code",
      "source": [
        "cooling_resampled_data = cooling_df.iloc[:,2:8].resample('H').mean()"
      ],
      "metadata": {
        "id": "OTLU0rQuHUma"
      },
      "execution_count": null,
      "outputs": []
    },
    {
      "cell_type": "code",
      "source": [
        "cooling_resampled_data.info()"
      ],
      "metadata": {
        "id": "YBR_fkwmIM39"
      },
      "execution_count": null,
      "outputs": []
    },
    {
      "cell_type": "code",
      "source": [
        "cooling_resampled_data = cooling_resampled_data.dropna()"
      ],
      "metadata": {
        "id": "4dTdSY1ci-eA"
      },
      "execution_count": null,
      "outputs": []
    },
    {
      "cell_type": "code",
      "source": [
        "cooling_resampled_data.isnull().sum()"
      ],
      "metadata": {
        "id": "H5vNsOv3jL06"
      },
      "execution_count": null,
      "outputs": []
    },
    {
      "cell_type": "code",
      "source": [
        "from pathlib import Path  \n",
        "filepath = Path('/gdrive/My Drive/Colab_Dataset/cooling_df_hourly.csv')  \n",
        "filepath.parent.mkdir(parents=True, exist_ok=True)  \n",
        "cooling_resampled_data.to_csv(filepath)"
      ],
      "metadata": {
        "id": "VVsStd1TjTMG"
      },
      "execution_count": null,
      "outputs": []
    },
    {
      "cell_type": "markdown",
      "source": [
        "# **Jobs dataframe**"
      ],
      "metadata": {
        "id": "ysB6H4qvlIjN"
      }
    },
    {
      "cell_type": "code",
      "source": [
        "j_path = '/gdrive/My Drive/Colab_Dataset/Other/Jobs_2020.csv'\n",
        "job_df = pd.read_csv(j_path, delimiter=';')\n"
      ],
      "metadata": {
        "id": "r7iFJJwvlPdM"
      },
      "execution_count": null,
      "outputs": []
    },
    {
      "cell_type": "code",
      "source": [
        "job_df.info()"
      ],
      "metadata": {
        "id": "9fC8mbo_oljM"
      },
      "execution_count": null,
      "outputs": []
    },
    {
      "cell_type": "code",
      "source": [
        "job_df['Execution Time(s)'] = job_df['stop'] - job_df['start']"
      ],
      "metadata": {
        "id": "TRFTrnIz4MpN"
      },
      "execution_count": null,
      "outputs": []
    },
    {
      "cell_type": "code",
      "source": [
        "job_df.head()"
      ],
      "metadata": {
        "id": "kC3qYgJw4RT1"
      },
      "execution_count": null,
      "outputs": []
    },
    {
      "cell_type": "code",
      "source": [
        "from pathlib import Path  \n",
        "filepath = Path('/gdrive/My Drive/Colab_Dataset/job_df.csv')  \n",
        "filepath.parent.mkdir(parents=True, exist_ok=True)  \n",
        "job_df.to_csv(filepath)"
      ],
      "metadata": {
        "id": "QwTQaJTz5XbL"
      },
      "execution_count": null,
      "outputs": []
    },
    {
      "cell_type": "markdown",
      "source": [
        " **Jobs Dataset conversion to hourly**"
      ],
      "metadata": {
        "id": "eycFcOMBhgyB"
      }
    },
    {
      "cell_type": "code",
      "source": [
        "job_path = '/gdrive/My Drive/Colab_Dataset/job_df.csv'\n",
        "job_df = pd.read_csv(job_path, index_col=[0])"
      ],
      "metadata": {
        "id": "Uyviur9BI90k"
      },
      "execution_count": null,
      "outputs": []
    },
    {
      "cell_type": "code",
      "source": [
        "job_df.iloc[2:4,:]"
      ],
      "metadata": {
        "id": "-yRKPOuaiMT9"
      },
      "execution_count": null,
      "outputs": []
    },
    {
      "cell_type": "code",
      "source": [
        "job_df[job_df['executable'].isna()]"
      ],
      "metadata": {
        "id": "-FFqKU_CJQsW"
      },
      "execution_count": null,
      "outputs": []
    },
    {
      "cell_type": "code",
      "source": [
        "job_df[job_df['jobstatus']!='DONE']"
      ],
      "metadata": {
        "id": "Hr6B73oLA92u"
      },
      "execution_count": null,
      "outputs": []
    },
    {
      "cell_type": "code",
      "source": [
        "exitjob_df = job_df[job_df['jobstatus']!='DONE'].reset_index(drop=True)"
      ],
      "metadata": {
        "id": "omQyOB6peSAk"
      },
      "execution_count": null,
      "outputs": []
    },
    {
      "cell_type": "code",
      "source": [
        "exitjob_df['Execution Time(s)'] = exitjob_df['stop'] - exitjob_df['start']"
      ],
      "metadata": {
        "id": "NdGfIygTkOgL"
      },
      "execution_count": null,
      "outputs": []
    },
    {
      "cell_type": "code",
      "source": [
        "exitjob_df.head()"
      ],
      "metadata": {
        "id": "jtsHFpz_BshZ"
      },
      "execution_count": null,
      "outputs": []
    },
    {
      "cell_type": "code",
      "source": [],
      "metadata": {
        "id": "qnRIhpvWBsWM"
      },
      "execution_count": null,
      "outputs": []
    },
    {
      "cell_type": "code",
      "source": [
        "donejob_df = job_df[job_df['jobstatus']=='DONE'].reset_index(drop=True)"
      ],
      "metadata": {
        "id": "quxf6rPhkKFa"
      },
      "execution_count": null,
      "outputs": []
    },
    {
      "cell_type": "code",
      "source": [
        "donejob_df.info()"
      ],
      "metadata": {
        "id": "WTdkLmtfkTOT"
      },
      "execution_count": null,
      "outputs": []
    },
    {
      "cell_type": "code",
      "source": [
        "job_df.loc[job_df['jobstatus'] == 'DONE','Execution Time(s)'].sum()\n"
      ],
      "metadata": {
        "id": "R33K3MoepGYT"
      },
      "execution_count": null,
      "outputs": []
    },
    {
      "cell_type": "code",
      "source": [
        "job_df['timestamp'] = pd.to_datetime(job_df['stop'], unit='s')"
      ],
      "metadata": {
        "id": "az7nk3dlOzWo"
      },
      "execution_count": null,
      "outputs": []
    },
    {
      "cell_type": "code",
      "source": [
        "import datetime\n",
        "exitjob_df['timestamp'] = pd.to_datetime(exitjob_df['stop'], unit='s')\n",
        "#donejob_df['timestamp'] = pd.to_datetime(donejob_df['stop'], unit='s')"
      ],
      "metadata": {
        "id": "i5iR1k19d3Uy"
      },
      "execution_count": null,
      "outputs": []
    },
    {
      "cell_type": "code",
      "source": [
        "job_df[job_df['jobstatus'] == 'EXIT'].iloc[0:50,:]"
      ],
      "metadata": {
        "id": "r4coNzj4pm21"
      },
      "execution_count": null,
      "outputs": []
    },
    {
      "cell_type": "code",
      "source": [
        "job_df['timestamp'] = job_df['timestamp'].dt.strftime(\"%m/%d/%Y %H:%M:%S\")"
      ],
      "metadata": {
        "id": "pvcIMhOedeGk"
      },
      "execution_count": null,
      "outputs": []
    },
    {
      "cell_type": "code",
      "source": [
        "exitjob_df['timestamp'] = exitjob_df['timestamp'].dt.strftime(\"%m/%d/%Y %H:%M:%S\")\n",
        "#donejob_df['timestamp'] = donejob_df['timestamp'].dt.strftime(\"%m/%d/%Y %H:%M:%S\")"
      ],
      "metadata": {
        "id": "MilCB-uymUQu"
      },
      "execution_count": null,
      "outputs": []
    },
    {
      "cell_type": "code",
      "source": [
        "job_df['timestamp'] = pd.to_datetime(job_df['timestamp'])"
      ],
      "metadata": {
        "id": "QQha81DBedxp"
      },
      "execution_count": null,
      "outputs": []
    },
    {
      "cell_type": "code",
      "source": [
        "exitjob_df['timestamp'] = pd.to_datetime(exitjob_df['timestamp'])\n",
        "#donejob_df['timestamp'] = pd.to_datetime(donejob_df['timestamp'])"
      ],
      "metadata": {
        "id": "AdNSW9HumaML"
      },
      "execution_count": null,
      "outputs": []
    },
    {
      "cell_type": "code",
      "source": [
        "exitjob_df.head()"
      ],
      "metadata": {
        "id": "6o2ffS2PEm0T"
      },
      "execution_count": null,
      "outputs": []
    },
    {
      "cell_type": "code",
      "source": [
        "job_df = job_df.set_index('timestamp')"
      ],
      "metadata": {
        "id": "ETfkaXT7fMf6"
      },
      "execution_count": null,
      "outputs": []
    },
    {
      "cell_type": "code",
      "source": [
        "exitjob_df = exitjob_df.set_index('timestamp')\n",
        "#donejob_df = donejob_df.set_index('timestamp')"
      ],
      "metadata": {
        "id": "t-rYnQLlmf8k"
      },
      "execution_count": null,
      "outputs": []
    },
    {
      "cell_type": "code",
      "source": [
        "job_df.head()"
      ],
      "metadata": {
        "colab": {
          "base_uri": "https://localhost:8080/",
          "height": 492
        },
        "id": "D-Tb3AFC9cL0",
        "outputId": "c1f16c12-a4c5-498c-9922-09589f23eaad"
      },
      "execution_count": null,
      "outputs": [
        {
          "output_type": "execute_result",
          "data": {
            "text/plain": [
              "                         id   jobid  numcores     user          queue  \\\n",
              "timestamp                                                               \n",
              "2019-12-31 02:52:12  924386  299257        48  leporea  cresco6_48h48   \n",
              "2019-12-31 02:52:18  924387  299287        48  leporea  cresco6_48h48   \n",
              "2019-12-31 02:52:18  924388  299279        48  leporea  cresco6_48h48   \n",
              "2019-12-31 02:52:12  924389  299252        48  leporea  cresco6_48h48   \n",
              "2019-12-31 02:52:18  924390  299290        48  leporea  cresco6_48h48   \n",
              "\n",
              "                                   directory executable jobstatus       start  \\\n",
              "timestamp                                                                       \n",
              "2019-12-31 02:52:12  christian/electricity/R    Rscript      DONE  1577760730   \n",
              "2019-12-31 02:52:18  christian/electricity/R    Rscript      DONE  1577760734   \n",
              "2019-12-31 02:52:18  christian/electricity/R    Rscript      DONE  1577760732   \n",
              "2019-12-31 02:52:12  christian/electricity/R    Rscript      DONE  1577760730   \n",
              "2019-12-31 02:52:18  christian/electricity/R    Rscript      DONE  1577760734   \n",
              "\n",
              "                           stop  numhost          hostlist  Execution Time(s)  \n",
              "timestamp                                                                      \n",
              "2019-12-31 02:52:12  1577760732        1  \"48*cresco6x125\"                  2  \n",
              "2019-12-31 02:52:18  1577760738        1  \"48*cresco6x314\"                  4  \n",
              "2019-12-31 02:52:18  1577760738        1  \"48*cresco6x015\"                  6  \n",
              "2019-12-31 02:52:12  1577760732        1  \"48*cresco6x328\"                  2  \n",
              "2019-12-31 02:52:18  1577760738        1  \"48*cresco6x319\"                  4  "
            ],
            "text/html": [
              "\n",
              "  <div id=\"df-15939e8c-5cdf-4776-a9d3-eabc8f126d47\">\n",
              "    <div class=\"colab-df-container\">\n",
              "      <div>\n",
              "<style scoped>\n",
              "    .dataframe tbody tr th:only-of-type {\n",
              "        vertical-align: middle;\n",
              "    }\n",
              "\n",
              "    .dataframe tbody tr th {\n",
              "        vertical-align: top;\n",
              "    }\n",
              "\n",
              "    .dataframe thead th {\n",
              "        text-align: right;\n",
              "    }\n",
              "</style>\n",
              "<table border=\"1\" class=\"dataframe\">\n",
              "  <thead>\n",
              "    <tr style=\"text-align: right;\">\n",
              "      <th></th>\n",
              "      <th>id</th>\n",
              "      <th>jobid</th>\n",
              "      <th>numcores</th>\n",
              "      <th>user</th>\n",
              "      <th>queue</th>\n",
              "      <th>directory</th>\n",
              "      <th>executable</th>\n",
              "      <th>jobstatus</th>\n",
              "      <th>start</th>\n",
              "      <th>stop</th>\n",
              "      <th>numhost</th>\n",
              "      <th>hostlist</th>\n",
              "      <th>Execution Time(s)</th>\n",
              "    </tr>\n",
              "    <tr>\n",
              "      <th>timestamp</th>\n",
              "      <th></th>\n",
              "      <th></th>\n",
              "      <th></th>\n",
              "      <th></th>\n",
              "      <th></th>\n",
              "      <th></th>\n",
              "      <th></th>\n",
              "      <th></th>\n",
              "      <th></th>\n",
              "      <th></th>\n",
              "      <th></th>\n",
              "      <th></th>\n",
              "      <th></th>\n",
              "    </tr>\n",
              "  </thead>\n",
              "  <tbody>\n",
              "    <tr>\n",
              "      <th>2019-12-31 02:52:12</th>\n",
              "      <td>924386</td>\n",
              "      <td>299257</td>\n",
              "      <td>48</td>\n",
              "      <td>leporea</td>\n",
              "      <td>cresco6_48h48</td>\n",
              "      <td>christian/electricity/R</td>\n",
              "      <td>Rscript</td>\n",
              "      <td>DONE</td>\n",
              "      <td>1577760730</td>\n",
              "      <td>1577760732</td>\n",
              "      <td>1</td>\n",
              "      <td>\"48*cresco6x125\"</td>\n",
              "      <td>2</td>\n",
              "    </tr>\n",
              "    <tr>\n",
              "      <th>2019-12-31 02:52:18</th>\n",
              "      <td>924387</td>\n",
              "      <td>299287</td>\n",
              "      <td>48</td>\n",
              "      <td>leporea</td>\n",
              "      <td>cresco6_48h48</td>\n",
              "      <td>christian/electricity/R</td>\n",
              "      <td>Rscript</td>\n",
              "      <td>DONE</td>\n",
              "      <td>1577760734</td>\n",
              "      <td>1577760738</td>\n",
              "      <td>1</td>\n",
              "      <td>\"48*cresco6x314\"</td>\n",
              "      <td>4</td>\n",
              "    </tr>\n",
              "    <tr>\n",
              "      <th>2019-12-31 02:52:18</th>\n",
              "      <td>924388</td>\n",
              "      <td>299279</td>\n",
              "      <td>48</td>\n",
              "      <td>leporea</td>\n",
              "      <td>cresco6_48h48</td>\n",
              "      <td>christian/electricity/R</td>\n",
              "      <td>Rscript</td>\n",
              "      <td>DONE</td>\n",
              "      <td>1577760732</td>\n",
              "      <td>1577760738</td>\n",
              "      <td>1</td>\n",
              "      <td>\"48*cresco6x015\"</td>\n",
              "      <td>6</td>\n",
              "    </tr>\n",
              "    <tr>\n",
              "      <th>2019-12-31 02:52:12</th>\n",
              "      <td>924389</td>\n",
              "      <td>299252</td>\n",
              "      <td>48</td>\n",
              "      <td>leporea</td>\n",
              "      <td>cresco6_48h48</td>\n",
              "      <td>christian/electricity/R</td>\n",
              "      <td>Rscript</td>\n",
              "      <td>DONE</td>\n",
              "      <td>1577760730</td>\n",
              "      <td>1577760732</td>\n",
              "      <td>1</td>\n",
              "      <td>\"48*cresco6x328\"</td>\n",
              "      <td>2</td>\n",
              "    </tr>\n",
              "    <tr>\n",
              "      <th>2019-12-31 02:52:18</th>\n",
              "      <td>924390</td>\n",
              "      <td>299290</td>\n",
              "      <td>48</td>\n",
              "      <td>leporea</td>\n",
              "      <td>cresco6_48h48</td>\n",
              "      <td>christian/electricity/R</td>\n",
              "      <td>Rscript</td>\n",
              "      <td>DONE</td>\n",
              "      <td>1577760734</td>\n",
              "      <td>1577760738</td>\n",
              "      <td>1</td>\n",
              "      <td>\"48*cresco6x319\"</td>\n",
              "      <td>4</td>\n",
              "    </tr>\n",
              "  </tbody>\n",
              "</table>\n",
              "</div>\n",
              "      <button class=\"colab-df-convert\" onclick=\"convertToInteractive('df-15939e8c-5cdf-4776-a9d3-eabc8f126d47')\"\n",
              "              title=\"Convert this dataframe to an interactive table.\"\n",
              "              style=\"display:none;\">\n",
              "        \n",
              "  <svg xmlns=\"http://www.w3.org/2000/svg\" height=\"24px\"viewBox=\"0 0 24 24\"\n",
              "       width=\"24px\">\n",
              "    <path d=\"M0 0h24v24H0V0z\" fill=\"none\"/>\n",
              "    <path d=\"M18.56 5.44l.94 2.06.94-2.06 2.06-.94-2.06-.94-.94-2.06-.94 2.06-2.06.94zm-11 1L8.5 8.5l.94-2.06 2.06-.94-2.06-.94L8.5 2.5l-.94 2.06-2.06.94zm10 10l.94 2.06.94-2.06 2.06-.94-2.06-.94-.94-2.06-.94 2.06-2.06.94z\"/><path d=\"M17.41 7.96l-1.37-1.37c-.4-.4-.92-.59-1.43-.59-.52 0-1.04.2-1.43.59L10.3 9.45l-7.72 7.72c-.78.78-.78 2.05 0 2.83L4 21.41c.39.39.9.59 1.41.59.51 0 1.02-.2 1.41-.59l7.78-7.78 2.81-2.81c.8-.78.8-2.07 0-2.86zM5.41 20L4 18.59l7.72-7.72 1.47 1.35L5.41 20z\"/>\n",
              "  </svg>\n",
              "      </button>\n",
              "      \n",
              "  <style>\n",
              "    .colab-df-container {\n",
              "      display:flex;\n",
              "      flex-wrap:wrap;\n",
              "      gap: 12px;\n",
              "    }\n",
              "\n",
              "    .colab-df-convert {\n",
              "      background-color: #E8F0FE;\n",
              "      border: none;\n",
              "      border-radius: 50%;\n",
              "      cursor: pointer;\n",
              "      display: none;\n",
              "      fill: #1967D2;\n",
              "      height: 32px;\n",
              "      padding: 0 0 0 0;\n",
              "      width: 32px;\n",
              "    }\n",
              "\n",
              "    .colab-df-convert:hover {\n",
              "      background-color: #E2EBFA;\n",
              "      box-shadow: 0px 1px 2px rgba(60, 64, 67, 0.3), 0px 1px 3px 1px rgba(60, 64, 67, 0.15);\n",
              "      fill: #174EA6;\n",
              "    }\n",
              "\n",
              "    [theme=dark] .colab-df-convert {\n",
              "      background-color: #3B4455;\n",
              "      fill: #D2E3FC;\n",
              "    }\n",
              "\n",
              "    [theme=dark] .colab-df-convert:hover {\n",
              "      background-color: #434B5C;\n",
              "      box-shadow: 0px 1px 3px 1px rgba(0, 0, 0, 0.15);\n",
              "      filter: drop-shadow(0px 1px 2px rgba(0, 0, 0, 0.3));\n",
              "      fill: #FFFFFF;\n",
              "    }\n",
              "  </style>\n",
              "\n",
              "      <script>\n",
              "        const buttonEl =\n",
              "          document.querySelector('#df-15939e8c-5cdf-4776-a9d3-eabc8f126d47 button.colab-df-convert');\n",
              "        buttonEl.style.display =\n",
              "          google.colab.kernel.accessAllowed ? 'block' : 'none';\n",
              "\n",
              "        async function convertToInteractive(key) {\n",
              "          const element = document.querySelector('#df-15939e8c-5cdf-4776-a9d3-eabc8f126d47');\n",
              "          const dataTable =\n",
              "            await google.colab.kernel.invokeFunction('convertToInteractive',\n",
              "                                                     [key], {});\n",
              "          if (!dataTable) return;\n",
              "\n",
              "          const docLinkHtml = 'Like what you see? Visit the ' +\n",
              "            '<a target=\"_blank\" href=https://colab.research.google.com/notebooks/data_table.ipynb>data table notebook</a>'\n",
              "            + ' to learn more about interactive tables.';\n",
              "          element.innerHTML = '';\n",
              "          dataTable['output_type'] = 'display_data';\n",
              "          await google.colab.output.renderOutput(dataTable, element);\n",
              "          const docLink = document.createElement('div');\n",
              "          docLink.innerHTML = docLinkHtml;\n",
              "          element.appendChild(docLink);\n",
              "        }\n",
              "      </script>\n",
              "    </div>\n",
              "  </div>\n",
              "  "
            ]
          },
          "metadata": {},
          "execution_count": 48
        }
      ]
    },
    {
      "cell_type": "code",
      "source": [
        "exitjob_df.iloc[1:50,:]"
      ],
      "metadata": {
        "id": "wYB9UlAkEwns"
      },
      "execution_count": null,
      "outputs": []
    },
    {
      "cell_type": "code",
      "source": [
        "job_df[job_df['numcores']!= 48 ]"
      ],
      "metadata": {
        "id": "6X2wjvXsyDv4"
      },
      "execution_count": null,
      "outputs": []
    },
    {
      "cell_type": "code",
      "source": [
        "job_df.iloc[0:50,:]"
      ],
      "metadata": {
        "id": "FWAkjruKyXNZ"
      },
      "execution_count": null,
      "outputs": []
    },
    {
      "cell_type": "code",
      "source": [
        "job_resampled_data = job_df.resample('H').mean()"
      ],
      "metadata": {
        "id": "1E2cpr4Bx1Br"
      },
      "execution_count": null,
      "outputs": []
    },
    {
      "cell_type": "code",
      "source": [
        "exitjob_df = exitjob_df.resample('H').mean()\n",
        "#donejob_df = donejob_df.resample('H').mean()"
      ],
      "metadata": {
        "id": "PM8AQSAlmpFA"
      },
      "execution_count": null,
      "outputs": []
    },
    {
      "cell_type": "code",
      "source": [
        "job_resampled_data.isnull().sum()"
      ],
      "metadata": {
        "id": "L6R2dGJFvGS-"
      },
      "execution_count": null,
      "outputs": []
    },
    {
      "cell_type": "code",
      "source": [
        "job_resampled_data.dropna(inplace = True)"
      ],
      "metadata": {
        "id": "KJfyA74b3MAq"
      },
      "execution_count": null,
      "outputs": []
    },
    {
      "cell_type": "code",
      "source": [
        "job_resampled_data.info()"
      ],
      "metadata": {
        "id": "WJRjItoxS1MQ"
      },
      "execution_count": null,
      "outputs": []
    },
    {
      "cell_type": "code",
      "source": [
        "exitjob_df.dropna(inplace = True)\n",
        "#donejob_df.dropna(inplace = True)"
      ],
      "metadata": {
        "id": "5pswvZP2mwLT"
      },
      "execution_count": null,
      "outputs": []
    },
    {
      "cell_type": "code",
      "source": [
        "job_resampled_data.info()"
      ],
      "metadata": {
        "id": "pIzym29-4Y0L"
      },
      "execution_count": null,
      "outputs": []
    },
    {
      "cell_type": "code",
      "source": [
        "new_resampled_data = job_resampled_data.resample('D').sum()"
      ],
      "metadata": {
        "id": "qVmyTtYv4CR_"
      },
      "execution_count": null,
      "outputs": []
    },
    {
      "cell_type": "code",
      "source": [
        "new__data = exitjob_df.resample('D').sum()"
      ],
      "metadata": {
        "id": "Af024dCv770o"
      },
      "execution_count": null,
      "outputs": []
    },
    {
      "cell_type": "code",
      "source": [
        "new_resampled_data.iloc[5:25,:]"
      ],
      "metadata": {
        "id": "4Ucz8C0r4Na8"
      },
      "execution_count": null,
      "outputs": []
    },
    {
      "cell_type": "markdown",
      "source": [
        "# **Environment Dataframe**"
      ],
      "metadata": {
        "id": "n4MByXBQ6TLW"
      }
    },
    {
      "cell_type": "code",
      "source": [
        "en_path = '/gdrive/My Drive/Colab_Dataset/Other/Environment_2020.csv'\n",
        "env_df = pd.read_csv(en_path, delimiter=';')"
      ],
      "metadata": {
        "colab": {
          "base_uri": "https://localhost:8080/"
        },
        "id": "n0EyQjAN6bWi",
        "outputId": "32c6b24a-597f-4f8d-954d-93ff17a81b78"
      },
      "execution_count": null,
      "outputs": [
        {
          "output_type": "stream",
          "name": "stderr",
          "text": [
            "/usr/local/lib/python3.7/dist-packages/IPython/core/interactiveshell.py:2882: DtypeWarning: Columns (5,6,7,11) have mixed types.Specify dtype option on import or set low_memory=False.\n",
            "  exec(code_obj, self.user_global_ns, self.user_ns)\n"
          ]
        }
      ]
    },
    {
      "cell_type": "code",
      "source": [
        "env_df.isnull().sum()"
      ],
      "metadata": {
        "id": "AYdHeKG27nuz"
      },
      "execution_count": null,
      "outputs": []
    },
    {
      "cell_type": "code",
      "source": [
        "env_df.info"
      ],
      "metadata": {
        "id": "8hoEstLLe3LW"
      },
      "execution_count": null,
      "outputs": []
    },
    {
      "cell_type": "code",
      "source": [
        "env_df.info()"
      ],
      "metadata": {
        "id": "FlwWBdIg8v3z"
      },
      "execution_count": null,
      "outputs": []
    },
    {
      "cell_type": "markdown",
      "source": [
        "**Removing FAIL Labels from columns**"
      ],
      "metadata": {
        "id": "sx_sXM-p_0AG"
      }
    },
    {
      "cell_type": "code",
      "source": [
        "env_df.where(env_df == 'FAIL').count()"
      ],
      "metadata": {
        "id": "LCcyIW_lbeVq"
      },
      "execution_count": null,
      "outputs": []
    },
    {
      "cell_type": "code",
      "source": [
        "env_df.isnull().sum()"
      ],
      "metadata": {
        "id": "Gwut7L_Sd-oh"
      },
      "execution_count": null,
      "outputs": []
    },
    {
      "cell_type": "code",
      "source": [
        "env_df.loc[env_df[\"hot111_hum\"] == \"FAIL\", \"hot111_hum\"] = 0\n",
        "env_df.loc[env_df[\"hot111_temp\"] == \"FAIL\", \"hot111_temp\"] = 0\n",
        "env_df.loc[env_df[\"hot109_hum\"] == \"FAIL\", \"hot109_hum\"] = 0\n",
        "env_df.loc[env_df[\"hot101_hum\"] == \"FAIL\", \"hot101_hum\"] = 0\n",
        "\n"
      ],
      "metadata": {
        "id": "DIZGSEcrriIp"
      },
      "execution_count": null,
      "outputs": []
    },
    {
      "cell_type": "code",
      "source": [
        "env_df.info"
      ],
      "metadata": {
        "id": "9_PtlfLC-Ldj"
      },
      "execution_count": null,
      "outputs": []
    },
    {
      "cell_type": "code",
      "source": [
        "env_df.where(env_df == 'FAIL').count()"
      ],
      "metadata": {
        "id": "FK2xo4DRgRzL"
      },
      "execution_count": null,
      "outputs": []
    },
    {
      "cell_type": "markdown",
      "source": [
        "**Converting object to float type**"
      ],
      "metadata": {
        "id": "X-gsX52E_4x7"
      }
    },
    {
      "cell_type": "code",
      "source": [
        "env_df.info()"
      ],
      "metadata": {
        "id": "wuGjHKMtABdo"
      },
      "execution_count": null,
      "outputs": []
    },
    {
      "cell_type": "code",
      "source": [
        "env_df['hot101_hum'] = env_df['hot101_hum'].astype(float, errors = 'raise')\n",
        "env_df['hot111_temp'] = env_df['hot111_temp'].astype(float, errors = 'raise')\n",
        "env_df['hot111_hum'] = env_df['hot111_hum'].astype(float, errors = 'raise')\n",
        "env_df['hot109_hum'] = env_df['hot109_hum'].astype(float, errors = 'raise')"
      ],
      "metadata": {
        "id": "baXDrzT_X2PO"
      },
      "execution_count": null,
      "outputs": []
    },
    {
      "cell_type": "markdown",
      "source": [
        "**Converting to datetime format**"
      ],
      "metadata": {
        "id": "Xvk8VAEuAZng"
      }
    },
    {
      "cell_type": "code",
      "source": [
        "env_df.info()"
      ],
      "metadata": {
        "id": "Kcn4XqUtAT6_"
      },
      "execution_count": null,
      "outputs": []
    },
    {
      "cell_type": "code",
      "source": [
        "env_df['timestamp2'] = pd.to_datetime(env_df['timestamp2'])"
      ],
      "metadata": {
        "id": "OWvHc3qs8fYh"
      },
      "execution_count": null,
      "outputs": []
    },
    {
      "cell_type": "code",
      "source": [
        "env_df['timestamp2'] = env_df['timestamp2'].dt.strftime(\"%m/%d/%Y %H:%M:%S\")"
      ],
      "metadata": {
        "id": "6wn3Oebl8zGD"
      },
      "execution_count": null,
      "outputs": []
    },
    {
      "cell_type": "code",
      "source": [
        "env_df['timestamp2'] = pd.to_datetime(env_df['timestamp2'])"
      ],
      "metadata": {
        "id": "SgWiszkB85LW"
      },
      "execution_count": null,
      "outputs": []
    },
    {
      "cell_type": "code",
      "source": [
        "env_df.info()"
      ],
      "metadata": {
        "id": "9MfYl1IlYLQ5"
      },
      "execution_count": null,
      "outputs": []
    },
    {
      "cell_type": "code",
      "source": [
        "env_df = env_df.set_index('timestamp2')"
      ],
      "metadata": {
        "id": "NLo_Fame_CjP"
      },
      "execution_count": null,
      "outputs": []
    },
    {
      "cell_type": "code",
      "source": [
        "env_df.info()"
      ],
      "metadata": {
        "id": "yLglX1xh_gSe"
      },
      "execution_count": null,
      "outputs": []
    },
    {
      "cell_type": "markdown",
      "source": [
        "**Hourly sampling of Environment data**"
      ],
      "metadata": {
        "id": "5Ry1y0eHJgP5"
      }
    },
    {
      "cell_type": "code",
      "source": [
        "env_resampled_data = env_df.resample('H').mean()"
      ],
      "metadata": {
        "id": "Z15Y1EL0_K50"
      },
      "execution_count": null,
      "outputs": []
    },
    {
      "cell_type": "code",
      "source": [
        "env_resampled_data.info()"
      ],
      "metadata": {
        "id": "DreMrgFIGlar"
      },
      "execution_count": null,
      "outputs": []
    },
    {
      "cell_type": "code",
      "source": [
        "rows_with_nan = [index for index, row in env_resampled_data.iterrows() if row.isnull().any()]"
      ],
      "metadata": {
        "id": "dcpF3cLgut5H"
      },
      "execution_count": null,
      "outputs": []
    },
    {
      "cell_type": "code",
      "source": [
        "rows_with_nan"
      ],
      "metadata": {
        "id": "vG6Q5a1cwRVz"
      },
      "execution_count": null,
      "outputs": []
    },
    {
      "cell_type": "code",
      "source": [
        "env_resampled_data.dropna(inplace=True)"
      ],
      "metadata": {
        "id": "feBpFjovAL0L"
      },
      "execution_count": null,
      "outputs": []
    },
    {
      "cell_type": "code",
      "source": [
        "env_resampled_data.info()"
      ],
      "metadata": {
        "id": "uUv0wdgvBCpa"
      },
      "execution_count": null,
      "outputs": []
    },
    {
      "cell_type": "code",
      "source": [
        "env_resampled_data.head()"
      ],
      "metadata": {
        "colab": {
          "base_uri": "https://localhost:8080/",
          "height": 418
        },
        "id": "wSbdgk3TIRBm",
        "outputId": "2cc4afb3-3de2-4684-d7ae-9825596528af"
      },
      "execution_count": null,
      "outputs": [
        {
          "output_type": "execute_result",
          "data": {
            "text/plain": [
              "                        timestamp  hot103_temp  hot103_hum  hot101_temp  \\\n",
              "timestamp2                                                                \n",
              "2020-01-01 00:00:00  1.577835e+09    29.416667   13.166667    30.333333   \n",
              "2020-01-01 01:00:00  1.577839e+09    29.000000   13.300000    30.000000   \n",
              "2020-01-01 02:00:00  1.577842e+09    29.333333   13.166667    30.000000   \n",
              "2020-01-01 03:00:00  1.577846e+09    29.000000   13.300000    30.250000   \n",
              "2020-01-01 04:00:00  1.577849e+09    29.000000   13.300000    30.400000   \n",
              "\n",
              "                     hot101_hum  hot111_temp  hot111_hum  hot117_temp  \\\n",
              "timestamp2                                                              \n",
              "2020-01-01 00:00:00   13.133333         20.2   17.583333         30.0   \n",
              "2020-01-01 01:00:00   13.233333         20.2   17.700000         29.5   \n",
              "2020-01-01 02:00:00   13.233333         20.2   17.700000         29.5   \n",
              "2020-01-01 03:00:00   13.166667         20.2   17.700000         29.5   \n",
              "2020-01-01 04:00:00   13.140000         20.2   17.700000         29.7   \n",
              "\n",
              "                     hot117_hum  hot109_temp  ...  hot119_temp  hot119_hum  \\\n",
              "timestamp2                                    ...                            \n",
              "2020-01-01 00:00:00   14.383333    25.600000  ...    27.100000   12.516667   \n",
              "2020-01-01 01:00:00   14.500000    25.266667  ...    27.100000   12.600000   \n",
              "2020-01-01 02:00:00   14.600000    25.100000  ...    27.016667   12.600000   \n",
              "2020-01-01 03:00:00   14.566667    25.433333  ...    27.100000   12.516667   \n",
              "2020-01-01 04:00:00   14.440000    25.600000  ...    27.100000   12.500000   \n",
              "\n",
              "                     cold107_temp  cold107_hum  cold105_temp  cold105_hum  \\\n",
              "timestamp2                                                                  \n",
              "2020-01-01 00:00:00     14.400000    27.616667     15.316667    26.083333   \n",
              "2020-01-01 01:00:00     14.400000    27.983333     14.900000    26.483333   \n",
              "2020-01-01 02:00:00     14.400000    28.166667     14.900000    26.700000   \n",
              "2020-01-01 03:00:00     14.316667    28.100000     14.900000    26.700000   \n",
              "2020-01-01 04:00:00     14.300000    28.300000     14.900000    26.720000   \n",
              "\n",
              "                     cold115_temp  cold115_hum  cold113_temp  cold113_hum  \n",
              "timestamp2                                                                 \n",
              "2020-01-01 00:00:00     15.800000    24.966667     14.400000    22.766667  \n",
              "2020-01-01 01:00:00     15.400000    25.516667     14.400000    23.150000  \n",
              "2020-01-01 02:00:00     15.400000    25.600000     14.400000    23.200000  \n",
              "2020-01-01 03:00:00     15.666667    25.366667     14.483333    22.833333  \n",
              "2020-01-01 04:00:00     15.800000    25.340000     14.400000    22.900000  \n",
              "\n",
              "[5 rows x 21 columns]"
            ],
            "text/html": [
              "\n",
              "  <div id=\"df-9c9a1502-9c9d-486b-abd0-b724471adfc7\">\n",
              "    <div class=\"colab-df-container\">\n",
              "      <div>\n",
              "<style scoped>\n",
              "    .dataframe tbody tr th:only-of-type {\n",
              "        vertical-align: middle;\n",
              "    }\n",
              "\n",
              "    .dataframe tbody tr th {\n",
              "        vertical-align: top;\n",
              "    }\n",
              "\n",
              "    .dataframe thead th {\n",
              "        text-align: right;\n",
              "    }\n",
              "</style>\n",
              "<table border=\"1\" class=\"dataframe\">\n",
              "  <thead>\n",
              "    <tr style=\"text-align: right;\">\n",
              "      <th></th>\n",
              "      <th>timestamp</th>\n",
              "      <th>hot103_temp</th>\n",
              "      <th>hot103_hum</th>\n",
              "      <th>hot101_temp</th>\n",
              "      <th>hot101_hum</th>\n",
              "      <th>hot111_temp</th>\n",
              "      <th>hot111_hum</th>\n",
              "      <th>hot117_temp</th>\n",
              "      <th>hot117_hum</th>\n",
              "      <th>hot109_temp</th>\n",
              "      <th>...</th>\n",
              "      <th>hot119_temp</th>\n",
              "      <th>hot119_hum</th>\n",
              "      <th>cold107_temp</th>\n",
              "      <th>cold107_hum</th>\n",
              "      <th>cold105_temp</th>\n",
              "      <th>cold105_hum</th>\n",
              "      <th>cold115_temp</th>\n",
              "      <th>cold115_hum</th>\n",
              "      <th>cold113_temp</th>\n",
              "      <th>cold113_hum</th>\n",
              "    </tr>\n",
              "    <tr>\n",
              "      <th>timestamp2</th>\n",
              "      <th></th>\n",
              "      <th></th>\n",
              "      <th></th>\n",
              "      <th></th>\n",
              "      <th></th>\n",
              "      <th></th>\n",
              "      <th></th>\n",
              "      <th></th>\n",
              "      <th></th>\n",
              "      <th></th>\n",
              "      <th></th>\n",
              "      <th></th>\n",
              "      <th></th>\n",
              "      <th></th>\n",
              "      <th></th>\n",
              "      <th></th>\n",
              "      <th></th>\n",
              "      <th></th>\n",
              "      <th></th>\n",
              "      <th></th>\n",
              "      <th></th>\n",
              "    </tr>\n",
              "  </thead>\n",
              "  <tbody>\n",
              "    <tr>\n",
              "      <th>2020-01-01 00:00:00</th>\n",
              "      <td>1.577835e+09</td>\n",
              "      <td>29.416667</td>\n",
              "      <td>13.166667</td>\n",
              "      <td>30.333333</td>\n",
              "      <td>13.133333</td>\n",
              "      <td>20.2</td>\n",
              "      <td>17.583333</td>\n",
              "      <td>30.0</td>\n",
              "      <td>14.383333</td>\n",
              "      <td>25.600000</td>\n",
              "      <td>...</td>\n",
              "      <td>27.100000</td>\n",
              "      <td>12.516667</td>\n",
              "      <td>14.400000</td>\n",
              "      <td>27.616667</td>\n",
              "      <td>15.316667</td>\n",
              "      <td>26.083333</td>\n",
              "      <td>15.800000</td>\n",
              "      <td>24.966667</td>\n",
              "      <td>14.400000</td>\n",
              "      <td>22.766667</td>\n",
              "    </tr>\n",
              "    <tr>\n",
              "      <th>2020-01-01 01:00:00</th>\n",
              "      <td>1.577839e+09</td>\n",
              "      <td>29.000000</td>\n",
              "      <td>13.300000</td>\n",
              "      <td>30.000000</td>\n",
              "      <td>13.233333</td>\n",
              "      <td>20.2</td>\n",
              "      <td>17.700000</td>\n",
              "      <td>29.5</td>\n",
              "      <td>14.500000</td>\n",
              "      <td>25.266667</td>\n",
              "      <td>...</td>\n",
              "      <td>27.100000</td>\n",
              "      <td>12.600000</td>\n",
              "      <td>14.400000</td>\n",
              "      <td>27.983333</td>\n",
              "      <td>14.900000</td>\n",
              "      <td>26.483333</td>\n",
              "      <td>15.400000</td>\n",
              "      <td>25.516667</td>\n",
              "      <td>14.400000</td>\n",
              "      <td>23.150000</td>\n",
              "    </tr>\n",
              "    <tr>\n",
              "      <th>2020-01-01 02:00:00</th>\n",
              "      <td>1.577842e+09</td>\n",
              "      <td>29.333333</td>\n",
              "      <td>13.166667</td>\n",
              "      <td>30.000000</td>\n",
              "      <td>13.233333</td>\n",
              "      <td>20.2</td>\n",
              "      <td>17.700000</td>\n",
              "      <td>29.5</td>\n",
              "      <td>14.600000</td>\n",
              "      <td>25.100000</td>\n",
              "      <td>...</td>\n",
              "      <td>27.016667</td>\n",
              "      <td>12.600000</td>\n",
              "      <td>14.400000</td>\n",
              "      <td>28.166667</td>\n",
              "      <td>14.900000</td>\n",
              "      <td>26.700000</td>\n",
              "      <td>15.400000</td>\n",
              "      <td>25.600000</td>\n",
              "      <td>14.400000</td>\n",
              "      <td>23.200000</td>\n",
              "    </tr>\n",
              "    <tr>\n",
              "      <th>2020-01-01 03:00:00</th>\n",
              "      <td>1.577846e+09</td>\n",
              "      <td>29.000000</td>\n",
              "      <td>13.300000</td>\n",
              "      <td>30.250000</td>\n",
              "      <td>13.166667</td>\n",
              "      <td>20.2</td>\n",
              "      <td>17.700000</td>\n",
              "      <td>29.5</td>\n",
              "      <td>14.566667</td>\n",
              "      <td>25.433333</td>\n",
              "      <td>...</td>\n",
              "      <td>27.100000</td>\n",
              "      <td>12.516667</td>\n",
              "      <td>14.316667</td>\n",
              "      <td>28.100000</td>\n",
              "      <td>14.900000</td>\n",
              "      <td>26.700000</td>\n",
              "      <td>15.666667</td>\n",
              "      <td>25.366667</td>\n",
              "      <td>14.483333</td>\n",
              "      <td>22.833333</td>\n",
              "    </tr>\n",
              "    <tr>\n",
              "      <th>2020-01-01 04:00:00</th>\n",
              "      <td>1.577849e+09</td>\n",
              "      <td>29.000000</td>\n",
              "      <td>13.300000</td>\n",
              "      <td>30.400000</td>\n",
              "      <td>13.140000</td>\n",
              "      <td>20.2</td>\n",
              "      <td>17.700000</td>\n",
              "      <td>29.7</td>\n",
              "      <td>14.440000</td>\n",
              "      <td>25.600000</td>\n",
              "      <td>...</td>\n",
              "      <td>27.100000</td>\n",
              "      <td>12.500000</td>\n",
              "      <td>14.300000</td>\n",
              "      <td>28.300000</td>\n",
              "      <td>14.900000</td>\n",
              "      <td>26.720000</td>\n",
              "      <td>15.800000</td>\n",
              "      <td>25.340000</td>\n",
              "      <td>14.400000</td>\n",
              "      <td>22.900000</td>\n",
              "    </tr>\n",
              "  </tbody>\n",
              "</table>\n",
              "<p>5 rows × 21 columns</p>\n",
              "</div>\n",
              "      <button class=\"colab-df-convert\" onclick=\"convertToInteractive('df-9c9a1502-9c9d-486b-abd0-b724471adfc7')\"\n",
              "              title=\"Convert this dataframe to an interactive table.\"\n",
              "              style=\"display:none;\">\n",
              "        \n",
              "  <svg xmlns=\"http://www.w3.org/2000/svg\" height=\"24px\"viewBox=\"0 0 24 24\"\n",
              "       width=\"24px\">\n",
              "    <path d=\"M0 0h24v24H0V0z\" fill=\"none\"/>\n",
              "    <path d=\"M18.56 5.44l.94 2.06.94-2.06 2.06-.94-2.06-.94-.94-2.06-.94 2.06-2.06.94zm-11 1L8.5 8.5l.94-2.06 2.06-.94-2.06-.94L8.5 2.5l-.94 2.06-2.06.94zm10 10l.94 2.06.94-2.06 2.06-.94-2.06-.94-.94-2.06-.94 2.06-2.06.94z\"/><path d=\"M17.41 7.96l-1.37-1.37c-.4-.4-.92-.59-1.43-.59-.52 0-1.04.2-1.43.59L10.3 9.45l-7.72 7.72c-.78.78-.78 2.05 0 2.83L4 21.41c.39.39.9.59 1.41.59.51 0 1.02-.2 1.41-.59l7.78-7.78 2.81-2.81c.8-.78.8-2.07 0-2.86zM5.41 20L4 18.59l7.72-7.72 1.47 1.35L5.41 20z\"/>\n",
              "  </svg>\n",
              "      </button>\n",
              "      \n",
              "  <style>\n",
              "    .colab-df-container {\n",
              "      display:flex;\n",
              "      flex-wrap:wrap;\n",
              "      gap: 12px;\n",
              "    }\n",
              "\n",
              "    .colab-df-convert {\n",
              "      background-color: #E8F0FE;\n",
              "      border: none;\n",
              "      border-radius: 50%;\n",
              "      cursor: pointer;\n",
              "      display: none;\n",
              "      fill: #1967D2;\n",
              "      height: 32px;\n",
              "      padding: 0 0 0 0;\n",
              "      width: 32px;\n",
              "    }\n",
              "\n",
              "    .colab-df-convert:hover {\n",
              "      background-color: #E2EBFA;\n",
              "      box-shadow: 0px 1px 2px rgba(60, 64, 67, 0.3), 0px 1px 3px 1px rgba(60, 64, 67, 0.15);\n",
              "      fill: #174EA6;\n",
              "    }\n",
              "\n",
              "    [theme=dark] .colab-df-convert {\n",
              "      background-color: #3B4455;\n",
              "      fill: #D2E3FC;\n",
              "    }\n",
              "\n",
              "    [theme=dark] .colab-df-convert:hover {\n",
              "      background-color: #434B5C;\n",
              "      box-shadow: 0px 1px 3px 1px rgba(0, 0, 0, 0.15);\n",
              "      filter: drop-shadow(0px 1px 2px rgba(0, 0, 0, 0.3));\n",
              "      fill: #FFFFFF;\n",
              "    }\n",
              "  </style>\n",
              "\n",
              "      <script>\n",
              "        const buttonEl =\n",
              "          document.querySelector('#df-9c9a1502-9c9d-486b-abd0-b724471adfc7 button.colab-df-convert');\n",
              "        buttonEl.style.display =\n",
              "          google.colab.kernel.accessAllowed ? 'block' : 'none';\n",
              "\n",
              "        async function convertToInteractive(key) {\n",
              "          const element = document.querySelector('#df-9c9a1502-9c9d-486b-abd0-b724471adfc7');\n",
              "          const dataTable =\n",
              "            await google.colab.kernel.invokeFunction('convertToInteractive',\n",
              "                                                     [key], {});\n",
              "          if (!dataTable) return;\n",
              "\n",
              "          const docLinkHtml = 'Like what you see? Visit the ' +\n",
              "            '<a target=\"_blank\" href=https://colab.research.google.com/notebooks/data_table.ipynb>data table notebook</a>'\n",
              "            + ' to learn more about interactive tables.';\n",
              "          element.innerHTML = '';\n",
              "          dataTable['output_type'] = 'display_data';\n",
              "          await google.colab.output.renderOutput(dataTable, element);\n",
              "          const docLink = document.createElement('div');\n",
              "          docLink.innerHTML = docLinkHtml;\n",
              "          element.appendChild(docLink);\n",
              "        }\n",
              "      </script>\n",
              "    </div>\n",
              "  </div>\n",
              "  "
            ]
          },
          "metadata": {},
          "execution_count": 63
        }
      ]
    },
    {
      "cell_type": "code",
      "source": [
        "from pathlib import Path  \n",
        "filepath = Path('/gdrive/My Drive/Colab_Dataset/save_df.csv')  \n",
        "filepath.parent.mkdir(parents=True, exist_ok=True)  \n",
        "env_resampled_data.to_csv(filepath)"
      ],
      "metadata": {
        "id": "6ZgP_zBKC_pI"
      },
      "execution_count": null,
      "outputs": []
    }
  ]
}