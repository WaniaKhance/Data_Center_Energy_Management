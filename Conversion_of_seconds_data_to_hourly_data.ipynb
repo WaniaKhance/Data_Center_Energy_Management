{
  "nbformat": 4,
  "nbformat_minor": 0,
  "metadata": {
    "colab": {
      "name": "Copy of Conversion to hourly data.ipynb",
      "provenance": [],
      "collapsed_sections": [],
      "machine_shape": "hm"
    },
    "kernelspec": {
      "name": "python3",
      "display_name": "Python 3"
    },
    "language_info": {
      "name": "python"
    },
    "accelerator": "GPU"
  },
  "cells": [
    {
      "cell_type": "markdown",
      "source": [
        "**Initiallizing Libraries**\n"
      ],
      "metadata": {
        "id": "IwtM-hPBspHa"
      }
    },
    {
      "cell_type": "code",
      "execution_count": null,
      "metadata": {
        "id": "HkKnSIMgYu7S"
      },
      "outputs": [],
      "source": [
        "import numpy as np\n",
        "import pandas as pd\n",
        "from IPython.display import display\n",
        "import matplotlib.pyplot as plt\n",
        "import seaborn as sns\n",
        "from sklearn import metrics"
      ]
    },
    {
      "cell_type": "code",
      "source": [
        "from google.colab import drive\n",
        "drive.mount('/gdrive')\n",
        "%cd /gdrive"
      ],
      "metadata": {
        "colab": {
          "base_uri": "https://localhost:8080/"
        },
        "id": "ge2YZXkfZ6rh",
        "outputId": "c01cb92c-d07a-4e42-8d5c-b224fc5cb6e7"
      },
      "execution_count": null,
      "outputs": [
        {
          "output_type": "stream",
          "name": "stdout",
          "text": [
            "Mounted at /gdrive\n",
            "/gdrive\n"
          ]
        }
      ]
    },
    {
      "cell_type": "markdown",
      "source": [
        "**Reading CSV File from drive**"
      ],
      "metadata": {
        "id": "_XzSjnTctGAg"
      }
    },
    {
      "cell_type": "code",
      "source": [
        "path = '/gdrive/My Drive/your_df.csv'\n",
        "your_df = pd.read_csv(path, index_col=[0])\n"
      ],
      "metadata": {
        "id": "Gc2m-5HmaA4W"
      },
      "execution_count": null,
      "outputs": []
    },
    {
      "cell_type": "code",
      "source": [
        "your_df.head()"
      ],
      "metadata": {
        "id": "GMMDqj4daHcd"
      },
      "execution_count": null,
      "outputs": []
    },
    {
      "cell_type": "markdown",
      "source": [
        "#  **Conversion of sensor data to Hourly**"
      ],
      "metadata": {
        "id": "_o6X4PlRqaOu"
      }
    },
    {
      "cell_type": "markdown",
      "source": [
        "**Converting sensor data into datetime format**"
      ],
      "metadata": {
        "id": "cvulS1yOAJGU"
      }
    },
    {
      "cell_type": "code",
      "source": [
        "your_df['timestamp_column'] = your_df['tempo'].str.replace('CET', '')"
      ],
      "metadata": {
        "id": "bdoQTEyladtI"
      },
      "execution_count": null,
      "outputs": []
    },
    {
      "cell_type": "code",
      "source": [
        "your_df['timestamp_column'] = pd.to_datetime(your_df['timestamp_column'])"
      ],
      "metadata": {
        "id": "IrgHhtxWbAh3"
      },
      "execution_count": null,
      "outputs": []
    },
    {
      "cell_type": "code",
      "source": [
        "your_df.info()"
      ],
      "metadata": {
        "id": "eaWi_IUcj57G"
      },
      "execution_count": null,
      "outputs": []
    },
    {
      "cell_type": "code",
      "source": [
        "your_df['timestamp_column'] = your_df['timestamp_column'].dt.strftime(\"%m/%d/%Y %H:%M:%S\")"
      ],
      "metadata": {
        "id": "VdnboP7Sa0-O"
      },
      "execution_count": null,
      "outputs": []
    },
    {
      "cell_type": "code",
      "source": [
        "your_df['timestamp_column'] = your_df['timestamp_column'].dt.strftime(\"%m/%d/%Y %H:%M:%S\")"
      ],
      "metadata": {
        "id": "xB46099JpOP2"
      },
      "execution_count": null,
      "outputs": []
    },
    {
      "cell_type": "code",
      "source": [
        "your_df.info()"
      ],
      "metadata": {
        "id": "t6mNWPXHah7h"
      },
      "execution_count": null,
      "outputs": []
    },
    {
      "cell_type": "markdown",
      "source": [
        "**Hourly Resampling for January**"
      ],
      "metadata": {
        "id": "sq1qO1rhAdxM"
      }
    },
    {
      "cell_type": "code",
      "source": [
        "your_df = your_df.set_index('timestamp_column')\n",
        "your_df.info()"
      ],
      "metadata": {
        "id": "GTefzBrzqx6N"
      },
      "execution_count": null,
      "outputs": []
    },
    {
      "cell_type": "code",
      "source": [
        "hourly_resampled_data = your_df.iloc[:,1:25].resample('H').mean()\n"
      ],
      "metadata": {
        "id": "3fvoGUL_s-I4"
      },
      "execution_count": null,
      "outputs": []
    },
    {
      "cell_type": "markdown",
      "source": [
        "# **Hourly sampling for Cooling Data**"
      ],
      "metadata": {
        "id": "n7Q5-FuQAp2W"
      }
    },
    {
      "cell_type": "code",
      "source": [
        "c_path = '/gdrive/My Drive/Colab_Dataset/Other/Cooling_df.csv'\n",
        "cooling_df = pd.read_csv(c_path, delimiter=';')\n"
      ],
      "metadata": {
        "id": "W2sLVZjPA2Xi"
      },
      "execution_count": null,
      "outputs": []
    },
    {
      "cell_type": "code",
      "source": [
        "cooling_df.info()"
      ],
      "metadata": {
        "id": "J5MaWWLBBObr"
      },
      "execution_count": null,
      "outputs": []
    },
    {
      "cell_type": "code",
      "source": [
        "cooling_df['time'] = pd.to_datetime(cooling_df['time'],unit='s')"
      ],
      "metadata": {
        "id": "wyXCbdisCqjv"
      },
      "execution_count": null,
      "outputs": []
    },
    {
      "cell_type": "code",
      "source": [
        "cooling_df = cooling_df.dropna()"
      ],
      "metadata": {
        "id": "shzZD3m2DszC"
      },
      "execution_count": null,
      "outputs": []
    },
    {
      "cell_type": "code",
      "source": [
        "cooling_df.info()"
      ],
      "metadata": {
        "id": "4FX-95fHD6ob"
      },
      "execution_count": null,
      "outputs": []
    },
    {
      "cell_type": "code",
      "source": [
        "cooling_df.isnull().sum()"
      ],
      "metadata": {
        "id": "sRm1IBTyHcfv"
      },
      "execution_count": null,
      "outputs": []
    },
    {
      "cell_type": "code",
      "source": [
        "cooling_df['time'] = cooling_df['time'].dt.strftime(\"%m/%d/%Y %H:%M:%S\")"
      ],
      "metadata": {
        "id": "pXHnLO2VGad9"
      },
      "execution_count": null,
      "outputs": []
    },
    {
      "cell_type": "code",
      "source": [
        "cooling_df.head()"
      ],
      "metadata": {
        "id": "IyLrRS6LfU2v"
      },
      "execution_count": null,
      "outputs": []
    },
    {
      "cell_type": "code",
      "source": [
        "cooling_df['time']= pd.to_datetime(cooling_df['time'])"
      ],
      "metadata": {
        "id": "XzeXzONQGgum"
      },
      "execution_count": null,
      "outputs": []
    },
    {
      "cell_type": "code",
      "source": [
        "cooling_df['timestamp'] = cooling_df['time']"
      ],
      "metadata": {
        "id": "ieq_MGrlfRFU"
      },
      "execution_count": null,
      "outputs": []
    },
    {
      "cell_type": "code",
      "source": [
        "cooling_df = cooling_df.set_index('time')"
      ],
      "metadata": {
        "id": "lmVJpQHHHOAk"
      },
      "execution_count": null,
      "outputs": []
    },
    {
      "cell_type": "code",
      "source": [
        "cooling_df.info()"
      ],
      "metadata": {
        "id": "JW6r-aCfHrX3"
      },
      "execution_count": null,
      "outputs": []
    },
    {
      "cell_type": "code",
      "source": [
        "cooling_resampled_data = cooling_df.iloc[:,2:8].resample('H').mean()"
      ],
      "metadata": {
        "id": "OTLU0rQuHUma"
      },
      "execution_count": null,
      "outputs": []
    },
    {
      "cell_type": "code",
      "source": [
        "cooling_resampled_data.info()"
      ],
      "metadata": {
        "id": "YBR_fkwmIM39"
      },
      "execution_count": null,
      "outputs": []
    },
    {
      "cell_type": "code",
      "source": [
        "cooling_resampled_data = cooling_resampled_data.dropna()"
      ],
      "metadata": {
        "id": "4dTdSY1ci-eA"
      },
      "execution_count": null,
      "outputs": []
    },
    {
      "cell_type": "code",
      "source": [
        "cooling_resampled_data.isnull().sum()"
      ],
      "metadata": {
        "id": "H5vNsOv3jL06"
      },
      "execution_count": null,
      "outputs": []
    },
    {
      "cell_type": "markdown",
      "source": [
        "**Saving dataframe**"
      ],
      "metadata": {
        "id": "YJii24xKxkNw"
      }
    },
    {
      "cell_type": "code",
      "source": [
        "from pathlib import Path  \n",
        "filepath = Path('/gdrive/My Drive/Colab_Dataset/cooling_df_hourly.csv')  \n",
        "filepath.parent.mkdir(parents=True, exist_ok=True)  \n",
        "cooling_resampled_data.to_csv(filepath)"
      ],
      "metadata": {
        "id": "VVsStd1TjTMG"
      },
      "execution_count": null,
      "outputs": []
    },
    {
      "cell_type": "markdown",
      "source": [
        "# **Jobs dataframe**"
      ],
      "metadata": {
        "id": "ysB6H4qvlIjN"
      }
    },
    {
      "cell_type": "code",
      "source": [
        "j_path = '/gdrive/My Drive/Colab_Dataset/Other/Jobs_df.csv'\n",
        "job_df = pd.read_csv(j_path, delimiter=';')\n"
      ],
      "metadata": {
        "id": "r7iFJJwvlPdM"
      },
      "execution_count": null,
      "outputs": []
    },
    {
      "cell_type": "code",
      "source": [
        "job_df.info()"
      ],
      "metadata": {
        "id": "9fC8mbo_oljM"
      },
      "execution_count": null,
      "outputs": []
    },
    {
      "cell_type": "code",
      "source": [
        "job_df['Execution Time(s)'] = job_df['stop'] - job_df['start']"
      ],
      "metadata": {
        "id": "TRFTrnIz4MpN"
      },
      "execution_count": null,
      "outputs": []
    },
    {
      "cell_type": "code",
      "source": [
        "job_df.head()"
      ],
      "metadata": {
        "id": "kC3qYgJw4RT1"
      },
      "execution_count": null,
      "outputs": []
    },
    {
      "cell_type": "code",
      "source": [
        "from pathlib import Path  \n",
        "filepath = Path('/gdrive/My Drive/Colab_Dataset/job_df.csv')  \n",
        "filepath.parent.mkdir(parents=True, exist_ok=True)  \n",
        "job_df.to_csv(filepath)"
      ],
      "metadata": {
        "id": "QwTQaJTz5XbL"
      },
      "execution_count": null,
      "outputs": []
    },
    {
      "cell_type": "markdown",
      "source": [
        " **Jobs Dataset conversion to hourly**"
      ],
      "metadata": {
        "id": "eycFcOMBhgyB"
      }
    },
    {
      "cell_type": "code",
      "source": [
        "job_path = '/gdrive/My Drive/Colab_Dataset/job_df.csv'\n",
        "job_df = pd.read_csv(job_path, index_col=[0])"
      ],
      "metadata": {
        "id": "Uyviur9BI90k"
      },
      "execution_count": null,
      "outputs": []
    },
    {
      "cell_type": "code",
      "source": [
        "job_df[job_df['executable'].isna()]"
      ],
      "metadata": {
        "id": "-FFqKU_CJQsW"
      },
      "execution_count": null,
      "outputs": []
    },
    {
      "cell_type": "code",
      "source": [
        "job_df[job_df['jobstatus']!='DONE']"
      ],
      "metadata": {
        "id": "Hr6B73oLA92u"
      },
      "execution_count": null,
      "outputs": []
    },
    {
      "cell_type": "code",
      "source": [
        "exitjob_df = job_df[job_df['jobstatus']!='DONE'].reset_index(drop=True)"
      ],
      "metadata": {
        "id": "omQyOB6peSAk"
      },
      "execution_count": null,
      "outputs": []
    },
    {
      "cell_type": "code",
      "source": [
        "exitjob_df['Execution Time(s)'] = exitjob_df['stop'] - exitjob_df['start']"
      ],
      "metadata": {
        "id": "NdGfIygTkOgL"
      },
      "execution_count": null,
      "outputs": []
    },
    {
      "cell_type": "code",
      "source": [
        "donejob_df = job_df[job_df['jobstatus']=='DONE'].reset_index(drop=True)"
      ],
      "metadata": {
        "id": "quxf6rPhkKFa"
      },
      "execution_count": null,
      "outputs": []
    },
    {
      "cell_type": "code",
      "source": [
        "donejob_df.info()"
      ],
      "metadata": {
        "id": "WTdkLmtfkTOT"
      },
      "execution_count": null,
      "outputs": []
    },
    {
      "cell_type": "code",
      "source": [
        "job_df.loc[job_df['jobstatus'] == 'DONE','Execution Time(s)'].sum()\n"
      ],
      "metadata": {
        "id": "R33K3MoepGYT"
      },
      "execution_count": null,
      "outputs": []
    },
    {
      "cell_type": "code",
      "source": [
        "job_df['timestamp'] = pd.to_datetime(job_df['stop'], unit='s')"
      ],
      "metadata": {
        "id": "az7nk3dlOzWo"
      },
      "execution_count": null,
      "outputs": []
    },
    {
      "cell_type": "code",
      "source": [
        "import datetime\n",
        "exitjob_df['timestamp'] = pd.to_datetime(exitjob_df['stop'], unit='s')\n",
        "#donejob_df['timestamp'] = pd.to_datetime(donejob_df['stop'], unit='s')"
      ],
      "metadata": {
        "id": "i5iR1k19d3Uy"
      },
      "execution_count": null,
      "outputs": []
    },
    {
      "cell_type": "code",
      "source": [
        "job_df[job_df['jobstatus'] == 'EXIT'].iloc[0:50,:]"
      ],
      "metadata": {
        "id": "r4coNzj4pm21"
      },
      "execution_count": null,
      "outputs": []
    },
    {
      "cell_type": "code",
      "source": [
        "job_df['timestamp'] = job_df['timestamp'].dt.strftime(\"%m/%d/%Y %H:%M:%S\")"
      ],
      "metadata": {
        "id": "pvcIMhOedeGk"
      },
      "execution_count": null,
      "outputs": []
    },
    {
      "cell_type": "code",
      "source": [
        "exitjob_df['timestamp'] = exitjob_df['timestamp'].dt.strftime(\"%m/%d/%Y %H:%M:%S\")\n",
        "#donejob_df['timestamp'] = donejob_df['timestamp'].dt.strftime(\"%m/%d/%Y %H:%M:%S\")"
      ],
      "metadata": {
        "id": "MilCB-uymUQu"
      },
      "execution_count": null,
      "outputs": []
    },
    {
      "cell_type": "code",
      "source": [
        "job_df['timestamp'] = pd.to_datetime(job_df['timestamp'])"
      ],
      "metadata": {
        "id": "QQha81DBedxp"
      },
      "execution_count": null,
      "outputs": []
    },
    {
      "cell_type": "code",
      "source": [
        "exitjob_df['timestamp'] = pd.to_datetime(exitjob_df['timestamp'])\n",
        "#donejob_df['timestamp'] = pd.to_datetime(donejob_df['timestamp'])"
      ],
      "metadata": {
        "id": "AdNSW9HumaML"
      },
      "execution_count": null,
      "outputs": []
    },
    {
      "cell_type": "code",
      "source": [
        "exitjob_df.head()"
      ],
      "metadata": {
        "id": "6o2ffS2PEm0T"
      },
      "execution_count": null,
      "outputs": []
    },
    {
      "cell_type": "code",
      "source": [
        "job_df = job_df.set_index('timestamp')"
      ],
      "metadata": {
        "id": "ETfkaXT7fMf6"
      },
      "execution_count": null,
      "outputs": []
    },
    {
      "cell_type": "code",
      "source": [
        "exitjob_df = exitjob_df.set_index('timestamp')\n",
        "#donejob_df = donejob_df.set_index('timestamp')"
      ],
      "metadata": {
        "id": "t-rYnQLlmf8k"
      },
      "execution_count": null,
      "outputs": []
    },
    {
      "cell_type": "code",
      "source": [
        "job_df.head()"
      ],
      "metadata": {
        "id": "D-Tb3AFC9cL0"
      },
      "execution_count": null,
      "outputs": []
    },
    {
      "cell_type": "code",
      "source": [
        "job_resampled_data = job_df.resample('H').mean()"
      ],
      "metadata": {
        "id": "1E2cpr4Bx1Br"
      },
      "execution_count": null,
      "outputs": []
    },
    {
      "cell_type": "code",
      "source": [
        "exitjob_df = exitjob_df.resample('H').mean()\n",
        "#donejob_df = donejob_df.resample('H').mean()"
      ],
      "metadata": {
        "id": "PM8AQSAlmpFA"
      },
      "execution_count": null,
      "outputs": []
    },
    {
      "cell_type": "code",
      "source": [
        "job_resampled_data.isnull().sum()"
      ],
      "metadata": {
        "id": "L6R2dGJFvGS-"
      },
      "execution_count": null,
      "outputs": []
    },
    {
      "cell_type": "code",
      "source": [
        "job_resampled_data.dropna(inplace = True)"
      ],
      "metadata": {
        "id": "KJfyA74b3MAq"
      },
      "execution_count": null,
      "outputs": []
    },
    {
      "cell_type": "code",
      "source": [
        "exitjob_df.dropna(inplace = True)\n",
        "#donejob_df.dropna(inplace = True)"
      ],
      "metadata": {
        "id": "5pswvZP2mwLT"
      },
      "execution_count": null,
      "outputs": []
    },
    {
      "cell_type": "code",
      "source": [
        "job_resampled_data.info()"
      ],
      "metadata": {
        "id": "pIzym29-4Y0L"
      },
      "execution_count": null,
      "outputs": []
    },
    {
      "cell_type": "code",
      "source": [
        "new_resampled_data = job_resampled_data.resample('D').sum()"
      ],
      "metadata": {
        "id": "qVmyTtYv4CR_"
      },
      "execution_count": null,
      "outputs": []
    },
    {
      "cell_type": "code",
      "source": [
        "new__data = exitjob_df.resample('D').sum()"
      ],
      "metadata": {
        "id": "Af024dCv770o"
      },
      "execution_count": null,
      "outputs": []
    },
    {
      "cell_type": "markdown",
      "source": [
        "# **Environment Dataframe**"
      ],
      "metadata": {
        "id": "n4MByXBQ6TLW"
      }
    },
    {
      "cell_type": "code",
      "source": [
        "en_path = '/gdrive/My Drive/Environment_df.csv'\n",
        "env_df = pd.read_csv(en_path, delimiter=';')"
      ],
      "metadata": {
        "id": "n0EyQjAN6bWi"
      },
      "execution_count": null,
      "outputs": []
    },
    {
      "cell_type": "code",
      "source": [
        "env_df.isnull().sum()"
      ],
      "metadata": {
        "id": "AYdHeKG27nuz"
      },
      "execution_count": null,
      "outputs": []
    },
    {
      "cell_type": "code",
      "source": [
        "env_df.info"
      ],
      "metadata": {
        "id": "8hoEstLLe3LW"
      },
      "execution_count": null,
      "outputs": []
    },
    {
      "cell_type": "code",
      "source": [
        "env_df.info()"
      ],
      "metadata": {
        "id": "FlwWBdIg8v3z"
      },
      "execution_count": null,
      "outputs": []
    },
    {
      "cell_type": "markdown",
      "source": [
        "**Removing FAIL Labels from columns**"
      ],
      "metadata": {
        "id": "sx_sXM-p_0AG"
      }
    },
    {
      "cell_type": "code",
      "source": [
        "env_df.where(env_df == 'FAIL').count()"
      ],
      "metadata": {
        "id": "LCcyIW_lbeVq"
      },
      "execution_count": null,
      "outputs": []
    },
    {
      "cell_type": "code",
      "source": [
        "env_df.isnull().sum()"
      ],
      "metadata": {
        "id": "Gwut7L_Sd-oh"
      },
      "execution_count": null,
      "outputs": []
    },
    {
      "cell_type": "code",
      "source": [
        "env_df.loc[env_df[\"hot111_hum\"] == \"FAIL\", \"hot111_hum\"] = 0\n",
        "env_df.loc[env_df[\"hot111_temp\"] == \"FAIL\", \"hot111_temp\"] = 0\n",
        "env_df.loc[env_df[\"hot109_hum\"] == \"FAIL\", \"hot109_hum\"] = 0\n",
        "env_df.loc[env_df[\"hot101_hum\"] == \"FAIL\", \"hot101_hum\"] = 0\n",
        "\n"
      ],
      "metadata": {
        "id": "DIZGSEcrriIp"
      },
      "execution_count": null,
      "outputs": []
    },
    {
      "cell_type": "code",
      "source": [
        "env_df.info"
      ],
      "metadata": {
        "id": "9_PtlfLC-Ldj"
      },
      "execution_count": null,
      "outputs": []
    },
    {
      "cell_type": "code",
      "source": [
        "env_df.where(env_df == 'FAIL').count()"
      ],
      "metadata": {
        "id": "FK2xo4DRgRzL"
      },
      "execution_count": null,
      "outputs": []
    },
    {
      "cell_type": "markdown",
      "source": [
        "**Converting object to float type**"
      ],
      "metadata": {
        "id": "X-gsX52E_4x7"
      }
    },
    {
      "cell_type": "code",
      "source": [
        "env_df.info()"
      ],
      "metadata": {
        "id": "wuGjHKMtABdo"
      },
      "execution_count": null,
      "outputs": []
    },
    {
      "cell_type": "code",
      "source": [
        "env_df['hot101_hum'] = env_df['hot101_hum'].astype(float, errors = 'raise')\n",
        "env_df['hot111_temp'] = env_df['hot111_temp'].astype(float, errors = 'raise')\n",
        "env_df['hot111_hum'] = env_df['hot111_hum'].astype(float, errors = 'raise')\n",
        "env_df['hot109_hum'] = env_df['hot109_hum'].astype(float, errors = 'raise')"
      ],
      "metadata": {
        "id": "baXDrzT_X2PO"
      },
      "execution_count": null,
      "outputs": []
    },
    {
      "cell_type": "markdown",
      "source": [
        "**Converting to datetime format**"
      ],
      "metadata": {
        "id": "Xvk8VAEuAZng"
      }
    },
    {
      "cell_type": "code",
      "source": [
        "env_df.info()"
      ],
      "metadata": {
        "id": "Kcn4XqUtAT6_"
      },
      "execution_count": null,
      "outputs": []
    },
    {
      "cell_type": "code",
      "source": [
        "env_df['timestamp2'] = pd.to_datetime(env_df['timestamp2'])"
      ],
      "metadata": {
        "id": "OWvHc3qs8fYh"
      },
      "execution_count": null,
      "outputs": []
    },
    {
      "cell_type": "code",
      "source": [
        "env_df['timestamp2'] = env_df['timestamp2'].dt.strftime(\"%m/%d/%Y %H:%M:%S\")"
      ],
      "metadata": {
        "id": "6wn3Oebl8zGD"
      },
      "execution_count": null,
      "outputs": []
    },
    {
      "cell_type": "code",
      "source": [
        "env_df['timestamp2'] = pd.to_datetime(env_df['timestamp2'])"
      ],
      "metadata": {
        "id": "SgWiszkB85LW"
      },
      "execution_count": null,
      "outputs": []
    },
    {
      "cell_type": "code",
      "source": [
        "env_df.info()"
      ],
      "metadata": {
        "id": "9MfYl1IlYLQ5"
      },
      "execution_count": null,
      "outputs": []
    },
    {
      "cell_type": "code",
      "source": [
        "env_df = env_df.set_index('timestamp2')"
      ],
      "metadata": {
        "id": "NLo_Fame_CjP"
      },
      "execution_count": null,
      "outputs": []
    },
    {
      "cell_type": "code",
      "source": [
        "env_df.info()"
      ],
      "metadata": {
        "id": "yLglX1xh_gSe"
      },
      "execution_count": null,
      "outputs": []
    },
    {
      "cell_type": "markdown",
      "source": [
        "**Hourly sampling of Environment data**"
      ],
      "metadata": {
        "id": "5Ry1y0eHJgP5"
      }
    },
    {
      "cell_type": "code",
      "source": [
        "env_resampled_data = env_df.resample('H').mean()"
      ],
      "metadata": {
        "id": "Z15Y1EL0_K50"
      },
      "execution_count": null,
      "outputs": []
    },
    {
      "cell_type": "code",
      "source": [
        "env_resampled_data.info()"
      ],
      "metadata": {
        "id": "DreMrgFIGlar"
      },
      "execution_count": null,
      "outputs": []
    },
    {
      "cell_type": "code",
      "source": [
        "rows_with_nan = [index for index, row in env_resampled_data.iterrows() if row.isnull().any()]"
      ],
      "metadata": {
        "id": "dcpF3cLgut5H"
      },
      "execution_count": null,
      "outputs": []
    },
    {
      "cell_type": "code",
      "source": [
        "rows_with_nan"
      ],
      "metadata": {
        "id": "vG6Q5a1cwRVz"
      },
      "execution_count": null,
      "outputs": []
    },
    {
      "cell_type": "code",
      "source": [
        "env_resampled_data.dropna(inplace=True)"
      ],
      "metadata": {
        "id": "feBpFjovAL0L"
      },
      "execution_count": null,
      "outputs": []
    },
    {
      "cell_type": "code",
      "source": [
        "env_resampled_data.info()"
      ],
      "metadata": {
        "id": "uUv0wdgvBCpa"
      },
      "execution_count": null,
      "outputs": []
    },
    {
      "cell_type": "code",
      "source": [
        "env_resampled_data.head()"
      ],
      "metadata": {
        "id": "wSbdgk3TIRBm"
      },
      "execution_count": null,
      "outputs": []
    },
    {
      "cell_type": "code",
      "source": [
        "from pathlib import Path  \n",
        "filepath = Path('/gdrive/My Drive/Colab_Dataset/save_df.csv')  \n",
        "filepath.parent.mkdir(parents=True, exist_ok=True)  \n",
        "env_resampled_data.to_csv(filepath)"
      ],
      "metadata": {
        "id": "6ZgP_zBKC_pI"
      },
      "execution_count": null,
      "outputs": []
    }
  ]
}